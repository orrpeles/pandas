{
 "cells": [
  {
   "cell_type": "code",
   "execution_count": 1,
   "metadata": {},
   "outputs": [],
   "source": [
    "netsmart = read.csv('/home/enumtheworld/netsmart_billing.csv')"
   ]
  },
  {
   "cell_type": "code",
   "execution_count": 2,
   "metadata": {},
   "outputs": [
    {
     "name": "stderr",
     "output_type": "stream",
     "text": [
      "\n",
      "Attaching package: ‘dplyr’\n",
      "\n",
      "The following objects are masked from ‘package:stats’:\n",
      "\n",
      "    filter, lag\n",
      "\n",
      "The following objects are masked from ‘package:base’:\n",
      "\n",
      "    intersect, setdiff, setequal, union\n",
      "\n"
     ]
    }
   ],
   "source": [
    "library('dplyr')"
   ]
  },
  {
   "cell_type": "code",
   "execution_count": 3,
   "metadata": {},
   "outputs": [
    {
     "data": {
      "text/html": [
       "<table>\n",
       "<thead><tr><th scope=col>Date</th><th scope=col>Time</th><th scope=col>Tariff</th><th scope=col>ShortCode</th><th scope=col>Destination</th><th scope=col>Op</th><th scope=col>ID</th><th scope=col>Status</th><th scope=col>Reason</th><th scope=col>Clientref</th></tr></thead>\n",
       "<tbody>\n",
       "\t<tr><td>1/Nov/2018    </td><td>09:31         </td><td>600           </td><td>DCB           </td><td>(277)-65492968</td><td>CellC         </td><td>105747625247S </td><td>2             </td><td>1             </td><td>268552350     </td></tr>\n",
       "\t<tr><td>1/Nov/2018    </td><td>09:31         </td><td>600           </td><td>DCB           </td><td>(276)-53626315</td><td>CellC         </td><td>105747625246J </td><td>2             </td><td>1             </td><td>268552346     </td></tr>\n",
       "\t<tr><td>1/Nov/2018    </td><td>09:31         </td><td>600           </td><td>DCB           </td><td>(276)-17761722</td><td>CellC         </td><td>105747625250F </td><td>2             </td><td>1             </td><td>268552351     </td></tr>\n",
       "\t<tr><td>1/Nov/2018    </td><td>09:31         </td><td>600           </td><td>DCB           </td><td>(276)-03002825</td><td>MTNSA         </td><td>105747625249H </td><td>2             </td><td>1             </td><td>268552348     </td></tr>\n",
       "\t<tr><td>1/Nov/2018    </td><td>09:31         </td><td>600           </td><td>DCB           </td><td>(276)-17761933</td><td>CellC         </td><td>105748025255E </td><td>2             </td><td>1             </td><td>268552354     </td></tr>\n",
       "\t<tr><td>1/Nov/2018    </td><td>09:31         </td><td>600           </td><td>DCB           </td><td>(277)-65493971</td><td>CellC         </td><td>105748025253N </td><td>2             </td><td>1             </td><td>268552355     </td></tr>\n",
       "</tbody>\n",
       "</table>\n"
      ],
      "text/latex": [
       "\\begin{tabular}{r|llllllllll}\n",
       " Date & Time & Tariff & ShortCode & Destination & Op & ID & Status & Reason & Clientref\\\\\n",
       "\\hline\n",
       "\t 1/Nov/2018     & 09:31          & 600            & DCB            & (277)-65492968 & CellC          & 105747625247S  & 2              & 1              & 268552350     \\\\\n",
       "\t 1/Nov/2018     & 09:31          & 600            & DCB            & (276)-53626315 & CellC          & 105747625246J  & 2              & 1              & 268552346     \\\\\n",
       "\t 1/Nov/2018     & 09:31          & 600            & DCB            & (276)-17761722 & CellC          & 105747625250F  & 2              & 1              & 268552351     \\\\\n",
       "\t 1/Nov/2018     & 09:31          & 600            & DCB            & (276)-03002825 & MTNSA          & 105747625249H  & 2              & 1              & 268552348     \\\\\n",
       "\t 1/Nov/2018     & 09:31          & 600            & DCB            & (276)-17761933 & CellC          & 105748025255E  & 2              & 1              & 268552354     \\\\\n",
       "\t 1/Nov/2018     & 09:31          & 600            & DCB            & (277)-65493971 & CellC          & 105748025253N  & 2              & 1              & 268552355     \\\\\n",
       "\\end{tabular}\n"
      ],
      "text/markdown": [
       "\n",
       "| Date | Time | Tariff | ShortCode | Destination | Op | ID | Status | Reason | Clientref |\n",
       "|---|---|---|---|---|---|---|---|---|---|\n",
       "| 1/Nov/2018     | 09:31          | 600            | DCB            | (277)-65492968 | CellC          | 105747625247S  | 2              | 1              | 268552350      |\n",
       "| 1/Nov/2018     | 09:31          | 600            | DCB            | (276)-53626315 | CellC          | 105747625246J  | 2              | 1              | 268552346      |\n",
       "| 1/Nov/2018     | 09:31          | 600            | DCB            | (276)-17761722 | CellC          | 105747625250F  | 2              | 1              | 268552351      |\n",
       "| 1/Nov/2018     | 09:31          | 600            | DCB            | (276)-03002825 | MTNSA          | 105747625249H  | 2              | 1              | 268552348      |\n",
       "| 1/Nov/2018     | 09:31          | 600            | DCB            | (276)-17761933 | CellC          | 105748025255E  | 2              | 1              | 268552354      |\n",
       "| 1/Nov/2018     | 09:31          | 600            | DCB            | (277)-65493971 | CellC          | 105748025253N  | 2              | 1              | 268552355      |\n",
       "\n"
      ],
      "text/plain": [
       "  Date       Time  Tariff ShortCode Destination    Op    ID            Status\n",
       "1 1/Nov/2018 09:31 600    DCB       (277)-65492968 CellC 105747625247S 2     \n",
       "2 1/Nov/2018 09:31 600    DCB       (276)-53626315 CellC 105747625246J 2     \n",
       "3 1/Nov/2018 09:31 600    DCB       (276)-17761722 CellC 105747625250F 2     \n",
       "4 1/Nov/2018 09:31 600    DCB       (276)-03002825 MTNSA 105747625249H 2     \n",
       "5 1/Nov/2018 09:31 600    DCB       (276)-17761933 CellC 105748025255E 2     \n",
       "6 1/Nov/2018 09:31 600    DCB       (277)-65493971 CellC 105748025253N 2     \n",
       "  Reason Clientref\n",
       "1 1      268552350\n",
       "2 1      268552346\n",
       "3 1      268552351\n",
       "4 1      268552348\n",
       "5 1      268552354\n",
       "6 1      268552355"
      ]
     },
     "metadata": {},
     "output_type": "display_data"
    }
   ],
   "source": [
    "head(netsmart)"
   ]
  },
  {
   "cell_type": "markdown",
   "metadata": {},
   "source": [
    "### 3 unique statuses for netsmart: 1, 2 and 8 (1 is success, 2 is failed, 8 is pending)"
   ]
  },
  {
   "cell_type": "code",
   "execution_count": 3,
   "metadata": {},
   "outputs": [
    {
     "data": {
      "text/html": [
       "<ol class=list-inline>\n",
       "\t<li>2</li>\n",
       "\t<li>1</li>\n",
       "\t<li>8</li>\n",
       "</ol>\n"
      ],
      "text/latex": [
       "\\begin{enumerate*}\n",
       "\\item 2\n",
       "\\item 1\n",
       "\\item 8\n",
       "\\end{enumerate*}\n"
      ],
      "text/markdown": [
       "1. 2\n",
       "2. 1\n",
       "3. 8\n",
       "\n",
       "\n"
      ],
      "text/plain": [
       "[1] 2 1 8"
      ]
     },
     "metadata": {},
     "output_type": "display_data"
    }
   ],
   "source": [
    "unique(netsmart$Status)"
   ]
  },
  {
   "cell_type": "code",
   "execution_count": 4,
   "metadata": {},
   "outputs": [
    {
     "data": {
      "text/html": [
       "<ol class=list-inline>\n",
       "\t<li>1</li>\n",
       "\t<li>0</li>\n",
       "\t<li>11</li>\n",
       "\t<li>4</li>\n",
       "\t<li>10</li>\n",
       "\t<li>2</li>\n",
       "</ol>\n"
      ],
      "text/latex": [
       "\\begin{enumerate*}\n",
       "\\item 1\n",
       "\\item 0\n",
       "\\item 11\n",
       "\\item 4\n",
       "\\item 10\n",
       "\\item 2\n",
       "\\end{enumerate*}\n"
      ],
      "text/markdown": [
       "1. 1\n",
       "2. 0\n",
       "3. 11\n",
       "4. 4\n",
       "5. 10\n",
       "6. 2\n",
       "\n",
       "\n"
      ],
      "text/plain": [
       "[1]  1  0 11  4 10  2"
      ]
     },
     "metadata": {},
     "output_type": "display_data"
    }
   ],
   "source": [
    "unique(netsmart$Reason)"
   ]
  },
  {
   "cell_type": "code",
   "execution_count": 5,
   "metadata": {},
   "outputs": [
    {
     "data": {
      "text/html": [
       "<ol class=list-inline>\n",
       "\t<li>'Date'</li>\n",
       "\t<li>'Time'</li>\n",
       "\t<li>'Tariff'</li>\n",
       "\t<li>'ShortCode'</li>\n",
       "\t<li>'Destination'</li>\n",
       "\t<li>'Op'</li>\n",
       "\t<li>'ID'</li>\n",
       "\t<li>'Status'</li>\n",
       "\t<li>'Reason'</li>\n",
       "\t<li>'Clientref'</li>\n",
       "</ol>\n"
      ],
      "text/latex": [
       "\\begin{enumerate*}\n",
       "\\item 'Date'\n",
       "\\item 'Time'\n",
       "\\item 'Tariff'\n",
       "\\item 'ShortCode'\n",
       "\\item 'Destination'\n",
       "\\item 'Op'\n",
       "\\item 'ID'\n",
       "\\item 'Status'\n",
       "\\item 'Reason'\n",
       "\\item 'Clientref'\n",
       "\\end{enumerate*}\n"
      ],
      "text/markdown": [
       "1. 'Date'\n",
       "2. 'Time'\n",
       "3. 'Tariff'\n",
       "4. 'ShortCode'\n",
       "5. 'Destination'\n",
       "6. 'Op'\n",
       "7. 'ID'\n",
       "8. 'Status'\n",
       "9. 'Reason'\n",
       "10. 'Clientref'\n",
       "\n",
       "\n"
      ],
      "text/plain": [
       " [1] \"Date\"        \"Time\"        \"Tariff\"      \"ShortCode\"   \"Destination\"\n",
       " [6] \"Op\"          \"ID\"          \"Status\"      \"Reason\"      \"Clientref\"  "
      ]
     },
     "metadata": {},
     "output_type": "display_data"
    }
   ],
   "source": [
    "names(netsmart)"
   ]
  },
  {
   "cell_type": "code",
   "execution_count": 27,
   "metadata": {},
   "outputs": [
    {
     "data": {
      "text/html": [
       "<ol class=list-inline>\n",
       "\t<li>CellC</li>\n",
       "\t<li>MTNSA</li>\n",
       "\t<li>Vodacom</li>\n",
       "\t<li>VodafoneGR</li>\n",
       "\t<li>CosmOte</li>\n",
       "\t<li>MTNCY</li>\n",
       "\t<li>DNA</li>\n",
       "\t<li>WIND</li>\n",
       "\t<li>ELISA</li>\n",
       "\t<li>SAUNALAHTI</li>\n",
       "\t<li>SONERA</li>\n",
       "\t<li>CYTAGSM</li>\n",
       "\t<li>AMT</li>\n",
       "\t<li>TMobileNL</li>\n",
       "\t<li>KPN</li>\n",
       "\t<li>TELLFORD</li>\n",
       "\t<li>VodafoneNL</li>\n",
       "\t<li>PRIMETELCY</li>\n",
       "</ol>\n",
       "\n",
       "<details>\n",
       "\t<summary style=display:list-item;cursor:pointer>\n",
       "\t\t<strong>Levels</strong>:\n",
       "\t</summary>\n",
       "\t<ol class=list-inline>\n",
       "\t\t<li>'AMT'</li>\n",
       "\t\t<li>'CellC'</li>\n",
       "\t\t<li>'CosmOte'</li>\n",
       "\t\t<li>'CYTAGSM'</li>\n",
       "\t\t<li>'DNA'</li>\n",
       "\t\t<li>'ELISA'</li>\n",
       "\t\t<li>'KPN'</li>\n",
       "\t\t<li>'MTNCY'</li>\n",
       "\t\t<li>'MTNSA'</li>\n",
       "\t\t<li>'PRIMETELCY'</li>\n",
       "\t\t<li>'SAUNALAHTI'</li>\n",
       "\t\t<li>'SONERA'</li>\n",
       "\t\t<li>'TELLFORD'</li>\n",
       "\t\t<li>'TMobileNL'</li>\n",
       "\t\t<li>'Vodacom'</li>\n",
       "\t\t<li>'VodafoneGR'</li>\n",
       "\t\t<li>'VodafoneNL'</li>\n",
       "\t\t<li>'WIND'</li>\n",
       "\t</ol>\n",
       "</details>"
      ],
      "text/latex": [
       "\\begin{enumerate*}\n",
       "\\item CellC\n",
       "\\item MTNSA\n",
       "\\item Vodacom\n",
       "\\item VodafoneGR\n",
       "\\item CosmOte\n",
       "\\item MTNCY\n",
       "\\item DNA\n",
       "\\item WIND\n",
       "\\item ELISA\n",
       "\\item SAUNALAHTI\n",
       "\\item SONERA\n",
       "\\item CYTAGSM\n",
       "\\item AMT\n",
       "\\item TMobileNL\n",
       "\\item KPN\n",
       "\\item TELLFORD\n",
       "\\item VodafoneNL\n",
       "\\item PRIMETELCY\n",
       "\\end{enumerate*}\n",
       "\n",
       "\\emph{Levels}: \\begin{enumerate*}\n",
       "\\item 'AMT'\n",
       "\\item 'CellC'\n",
       "\\item 'CosmOte'\n",
       "\\item 'CYTAGSM'\n",
       "\\item 'DNA'\n",
       "\\item 'ELISA'\n",
       "\\item 'KPN'\n",
       "\\item 'MTNCY'\n",
       "\\item 'MTNSA'\n",
       "\\item 'PRIMETELCY'\n",
       "\\item 'SAUNALAHTI'\n",
       "\\item 'SONERA'\n",
       "\\item 'TELLFORD'\n",
       "\\item 'TMobileNL'\n",
       "\\item 'Vodacom'\n",
       "\\item 'VodafoneGR'\n",
       "\\item 'VodafoneNL'\n",
       "\\item 'WIND'\n",
       "\\end{enumerate*}\n"
      ],
      "text/markdown": [
       "1. CellC\n",
       "2. MTNSA\n",
       "3. Vodacom\n",
       "4. VodafoneGR\n",
       "5. CosmOte\n",
       "6. MTNCY\n",
       "7. DNA\n",
       "8. WIND\n",
       "9. ELISA\n",
       "10. SAUNALAHTI\n",
       "11. SONERA\n",
       "12. CYTAGSM\n",
       "13. AMT\n",
       "14. TMobileNL\n",
       "15. KPN\n",
       "16. TELLFORD\n",
       "17. VodafoneNL\n",
       "18. PRIMETELCY\n",
       "\n",
       "\n",
       "\n",
       "**Levels**: 1. 'AMT'\n",
       "2. 'CellC'\n",
       "3. 'CosmOte'\n",
       "4. 'CYTAGSM'\n",
       "5. 'DNA'\n",
       "6. 'ELISA'\n",
       "7. 'KPN'\n",
       "8. 'MTNCY'\n",
       "9. 'MTNSA'\n",
       "10. 'PRIMETELCY'\n",
       "11. 'SAUNALAHTI'\n",
       "12. 'SONERA'\n",
       "13. 'TELLFORD'\n",
       "14. 'TMobileNL'\n",
       "15. 'Vodacom'\n",
       "16. 'VodafoneGR'\n",
       "17. 'VodafoneNL'\n",
       "18. 'WIND'\n",
       "\n",
       "\n"
      ],
      "text/plain": [
       " [1] CellC      MTNSA      Vodacom    VodafoneGR CosmOte    MTNCY     \n",
       " [7] DNA        WIND       ELISA      SAUNALAHTI SONERA     CYTAGSM   \n",
       "[13] AMT        TMobileNL  KPN        TELLFORD   VodafoneNL PRIMETELCY\n",
       "18 Levels: AMT CellC CosmOte CYTAGSM DNA ELISA KPN MTNCY MTNSA ... WIND"
      ]
     },
     "metadata": {},
     "output_type": "display_data"
    }
   ],
   "source": [
    "unique(netsmart$Op)"
   ]
  },
  {
   "cell_type": "markdown",
   "metadata": {},
   "source": [
    "### listOfOp is an object allowing to choose specific operators in ZA"
   ]
  },
  {
   "cell_type": "code",
   "execution_count": 6,
   "metadata": {},
   "outputs": [],
   "source": [
    "listOfOp <- c(\"CellC\", \"MTNSA\", \"Vodacom\")"
   ]
  },
  {
   "cell_type": "code",
   "execution_count": null,
   "metadata": {},
   "outputs": [],
   "source": [
    "h"
   ]
  },
  {
   "cell_type": "code",
   "execution_count": 3,
   "metadata": {},
   "outputs": [],
   "source": [
    "listOfOpFI <- c(\"DNA\", \"WIND\", \"ELISA\", \"SAUNALAHTI\", \"SONERA\")"
   ]
  },
  {
   "cell_type": "markdown",
   "metadata": {},
   "source": [
    "### all operators that failed (status == 2) in south africa (recall listOfOp object)"
   ]
  },
  {
   "cell_type": "code",
   "execution_count": 7,
   "metadata": {},
   "outputs": [],
   "source": [
    "netsmartZAFail <- netsmart %>% select(Time, Date, Tariff, Destination, Op, ID, Status, Reason) %>% filter(Op %in% listOfOp & Status == 2)"
   ]
  },
  {
   "cell_type": "code",
   "execution_count": 8,
   "metadata": {},
   "outputs": [
    {
     "data": {
      "text/html": [
       "<ol class=list-inline>\n",
       "\t<li>18694441</li>\n",
       "\t<li>8</li>\n",
       "</ol>\n"
      ],
      "text/latex": [
       "\\begin{enumerate*}\n",
       "\\item 18694441\n",
       "\\item 8\n",
       "\\end{enumerate*}\n"
      ],
      "text/markdown": [
       "1. 18694441\n",
       "2. 8\n",
       "\n",
       "\n"
      ],
      "text/plain": [
       "[1] 18694441        8"
      ]
     },
     "metadata": {},
     "output_type": "display_data"
    }
   ],
   "source": [
    "dim(netsmartZAFail)"
   ]
  },
  {
   "cell_type": "markdown",
   "metadata": {},
   "source": [
    "### all Finnish Operators"
   ]
  },
  {
   "cell_type": "code",
   "execution_count": 4,
   "metadata": {},
   "outputs": [],
   "source": [
    "netsmartFI <- netsmart %>% select(Time, Date, Tariff, Destination, Op, ID, Status, Reason) %>% filter(Op %in% listOfOpFI)"
   ]
  },
  {
   "cell_type": "code",
   "execution_count": 5,
   "metadata": {},
   "outputs": [
    {
     "data": {
      "text/html": [
       "<ol class=list-inline>\n",
       "\t<li>3554530</li>\n",
       "\t<li>8</li>\n",
       "</ol>\n"
      ],
      "text/latex": [
       "\\begin{enumerate*}\n",
       "\\item 3554530\n",
       "\\item 8\n",
       "\\end{enumerate*}\n"
      ],
      "text/markdown": [
       "1. 3554530\n",
       "2. 8\n",
       "\n",
       "\n"
      ],
      "text/plain": [
       "[1] 3554530       8"
      ]
     },
     "metadata": {},
     "output_type": "display_data"
    }
   ],
   "source": [
    "dim(netsmartFI)"
   ]
  },
  {
   "cell_type": "code",
   "execution_count": 8,
   "metadata": {},
   "outputs": [
    {
     "data": {
      "text/html": [
       "<table>\n",
       "<thead><tr><th scope=col>Time</th><th scope=col>Date</th><th scope=col>Tariff</th><th scope=col>Destination</th><th scope=col>Op</th><th scope=col>ID</th><th scope=col>Status</th><th scope=col>Reason</th></tr></thead>\n",
       "<tbody>\n",
       "\t<tr><td>00:34          </td><td>1/Nov/2018     </td><td>500            </td><td>(358)-449712889</td><td>DNA            </td><td>091443314711J  </td><td>2              </td><td> 2             </td></tr>\n",
       "\t<tr><td>00:34          </td><td>1/Nov/2018     </td><td>500            </td><td>(358)-449712889</td><td>DNA            </td><td>091443714977S  </td><td>2              </td><td> 2             </td></tr>\n",
       "\t<tr><td>00:34          </td><td>1/Nov/2018     </td><td>500            </td><td>(358)-449712889</td><td>DNA            </td><td>091443514837L  </td><td>2              </td><td> 2             </td></tr>\n",
       "\t<tr><td>00:47          </td><td>1/Nov/2018     </td><td>208            </td><td>(306)-994997327</td><td>WIND           </td><td>100443111691Q  </td><td>2              </td><td>11             </td></tr>\n",
       "\t<tr><td>00:47          </td><td>1/Nov/2018     </td><td>208            </td><td>(306)-994997327</td><td>WIND           </td><td>100442811611A  </td><td>2              </td><td>11             </td></tr>\n",
       "\t<tr><td>00:47          </td><td>1/Nov/2018     </td><td>208            </td><td>(306)-994997327</td><td>WIND           </td><td>100443311765M  </td><td>2              </td><td>11             </td></tr>\n",
       "</tbody>\n",
       "</table>\n"
      ],
      "text/latex": [
       "\\begin{tabular}{r|llllllll}\n",
       " Time & Date & Tariff & Destination & Op & ID & Status & Reason\\\\\n",
       "\\hline\n",
       "\t 00:34           & 1/Nov/2018      & 500             & (358)-449712889 & DNA             & 091443314711J   & 2               &  2             \\\\\n",
       "\t 00:34           & 1/Nov/2018      & 500             & (358)-449712889 & DNA             & 091443714977S   & 2               &  2             \\\\\n",
       "\t 00:34           & 1/Nov/2018      & 500             & (358)-449712889 & DNA             & 091443514837L   & 2               &  2             \\\\\n",
       "\t 00:47           & 1/Nov/2018      & 208             & (306)-994997327 & WIND            & 100443111691Q   & 2               & 11             \\\\\n",
       "\t 00:47           & 1/Nov/2018      & 208             & (306)-994997327 & WIND            & 100442811611A   & 2               & 11             \\\\\n",
       "\t 00:47           & 1/Nov/2018      & 208             & (306)-994997327 & WIND            & 100443311765M   & 2               & 11             \\\\\n",
       "\\end{tabular}\n"
      ],
      "text/markdown": [
       "\n",
       "| Time | Date | Tariff | Destination | Op | ID | Status | Reason |\n",
       "|---|---|---|---|---|---|---|---|\n",
       "| 00:34           | 1/Nov/2018      | 500             | (358)-449712889 | DNA             | 091443314711J   | 2               |  2              |\n",
       "| 00:34           | 1/Nov/2018      | 500             | (358)-449712889 | DNA             | 091443714977S   | 2               |  2              |\n",
       "| 00:34           | 1/Nov/2018      | 500             | (358)-449712889 | DNA             | 091443514837L   | 2               |  2              |\n",
       "| 00:47           | 1/Nov/2018      | 208             | (306)-994997327 | WIND            | 100443111691Q   | 2               | 11              |\n",
       "| 00:47           | 1/Nov/2018      | 208             | (306)-994997327 | WIND            | 100442811611A   | 2               | 11              |\n",
       "| 00:47           | 1/Nov/2018      | 208             | (306)-994997327 | WIND            | 100443311765M   | 2               | 11              |\n",
       "\n"
      ],
      "text/plain": [
       "  Time  Date       Tariff Destination     Op   ID            Status Reason\n",
       "1 00:34 1/Nov/2018 500    (358)-449712889 DNA  091443314711J 2       2    \n",
       "2 00:34 1/Nov/2018 500    (358)-449712889 DNA  091443714977S 2       2    \n",
       "3 00:34 1/Nov/2018 500    (358)-449712889 DNA  091443514837L 2       2    \n",
       "4 00:47 1/Nov/2018 208    (306)-994997327 WIND 100443111691Q 2      11    \n",
       "5 00:47 1/Nov/2018 208    (306)-994997327 WIND 100442811611A 2      11    \n",
       "6 00:47 1/Nov/2018 208    (306)-994997327 WIND 100443311765M 2      11    "
      ]
     },
     "metadata": {},
     "output_type": "display_data"
    }
   ],
   "source": [
    "head(netsmartFI)"
   ]
  },
  {
   "cell_type": "code",
   "execution_count": 9,
   "metadata": {},
   "outputs": [],
   "source": [
    "netsmartFIFailed <- netsmartFI %>% filter(Status == 2)"
   ]
  },
  {
   "cell_type": "code",
   "execution_count": 11,
   "metadata": {},
   "outputs": [],
   "source": [
    "netsmartFISuccess <- netsmartFI %>% filter(Status == 1)"
   ]
  },
  {
   "cell_type": "code",
   "execution_count": 10,
   "metadata": {},
   "outputs": [
    {
     "data": {
      "text/html": [
       "<ol class=list-inline>\n",
       "\t<li>3439759</li>\n",
       "\t<li>8</li>\n",
       "</ol>\n"
      ],
      "text/latex": [
       "\\begin{enumerate*}\n",
       "\\item 3439759\n",
       "\\item 8\n",
       "\\end{enumerate*}\n"
      ],
      "text/markdown": [
       "1. 3439759\n",
       "2. 8\n",
       "\n",
       "\n"
      ],
      "text/plain": [
       "[1] 3439759       8"
      ]
     },
     "metadata": {},
     "output_type": "display_data"
    }
   ],
   "source": [
    "dim(netsmartFIFailed)"
   ]
  },
  {
   "cell_type": "code",
   "execution_count": 12,
   "metadata": {},
   "outputs": [
    {
     "data": {
      "text/html": [
       "<ol class=list-inline>\n",
       "\t<li>114771</li>\n",
       "\t<li>8</li>\n",
       "</ol>\n"
      ],
      "text/latex": [
       "\\begin{enumerate*}\n",
       "\\item 114771\n",
       "\\item 8\n",
       "\\end{enumerate*}\n"
      ],
      "text/markdown": [
       "1. 114771\n",
       "2. 8\n",
       "\n",
       "\n"
      ],
      "text/plain": [
       "[1] 114771      8"
      ]
     },
     "metadata": {},
     "output_type": "display_data"
    }
   ],
   "source": [
    "dim(netsmartFISuccess)"
   ]
  },
  {
   "cell_type": "markdown",
   "metadata": {},
   "source": [
    "### Export dataframe to csv"
   ]
  },
  {
   "cell_type": "code",
   "execution_count": 9,
   "metadata": {},
   "outputs": [],
   "source": [
    "write.csv(netsmartZAFail, file = '/home/enumtheworld/netsmartZAFail.csv')"
   ]
  },
  {
   "cell_type": "code",
   "execution_count": 6,
   "metadata": {},
   "outputs": [],
   "source": [
    "write.csv(netsmartFI, file = '/home/enumtheworld/netsmartFI.csv')"
   ]
  },
  {
   "cell_type": "code",
   "execution_count": 10,
   "metadata": {},
   "outputs": [
    {
     "ename": "ERROR",
     "evalue": "Error in as.Date(netsmartZAAllFail): object 'netsmartZAAllFail' not found\n",
     "output_type": "error",
     "traceback": [
      "Error in as.Date(netsmartZAAllFail): object 'netsmartZAAllFail' not found\nTraceback:\n",
      "1. as.Date(netsmartZAAllFail)"
     ]
    }
   ],
   "source": [
    "netsmartZAFail$Date <- as.Date(netsmartZAFail)"
   ]
  },
  {
   "cell_type": "code",
   "execution_count": 11,
   "metadata": {},
   "outputs": [
    {
     "name": "stdout",
     "output_type": "stream",
     "text": [
      "'data.frame':\t18694441 obs. of  8 variables:\n",
      " $ Time       : Factor w/ 1440 levels \"00:00\",\"00:01\",..: 572 572 572 572 572 572 572 572 572 572 ...\n",
      " $ Date       : Factor w/ 119 levels \"1/Dec/2018\",\"1/Feb/2019\",..: 4 4 4 4 4 4 4 4 4 4 ...\n",
      " $ Tariff     : int  600 600 600 600 600 600 600 600 600 600 ...\n",
      " $ Destination: Factor w/ 504343 levels \"(276)-03000134\",..: 191399 128889 32071 2 32073 191400 128895 64256 32074 128899 ...\n",
      " $ Op         : Factor w/ 18 levels \"AMT\",\"CellC\",..: 2 2 2 9 2 2 2 2 2 2 ...\n",
      " $ ID         : Factor w/ 36712632 levels \"000000511015C\",..: 5878031 5878030 5878034 5878033 5878039 5878037 5878044 5878035 5878042 5878047 ...\n",
      " $ Status     : int  2 2 2 2 2 2 2 2 2 2 ...\n",
      " $ Reason     : int  1 1 1 1 1 1 1 1 1 1 ...\n"
     ]
    }
   ],
   "source": [
    "str(netsmartZAFail)"
   ]
  },
  {
   "cell_type": "code",
   "execution_count": 12,
   "metadata": {},
   "outputs": [],
   "source": [
    "netsmartZAFail$Date <- strptime(as.character(netsmartZAFail$Date), \"%d/%m/%Y\")"
   ]
  },
  {
   "cell_type": "code",
   "execution_count": 14,
   "metadata": {},
   "outputs": [
    {
     "name": "stdout",
     "output_type": "stream",
     "text": [
      "'data.frame':\t18694441 obs. of  8 variables:\n",
      " $ Time       : Factor w/ 1440 levels \"00:00\",\"00:01\",..: 572 572 572 572 572 572 572 572 572 572 ...\n",
      " $ Date       : POSIXlt, format: NA NA ...\n",
      " $ Tariff     : int  600 600 600 600 600 600 600 600 600 600 ...\n",
      " $ Destination: Factor w/ 504343 levels \"(276)-03000134\",..: 191399 128889 32071 2 32073 191400 128895 64256 32074 128899 ...\n",
      " $ Op         : Factor w/ 18 levels \"AMT\",\"CellC\",..: 2 2 2 9 2 2 2 2 2 2 ...\n",
      " $ ID         : Factor w/ 36712632 levels \"000000511015C\",..: 5878031 5878030 5878034 5878033 5878039 5878037 5878044 5878035 5878042 5878047 ...\n",
      " $ Status     : int  2 2 2 2 2 2 2 2 2 2 ...\n",
      " $ Reason     : int  1 1 1 1 1 1 1 1 1 1 ...\n"
     ]
    }
   ],
   "source": [
    "str(netsmartZAFail)"
   ]
  },
  {
   "cell_type": "code",
   "execution_count": 15,
   "metadata": {},
   "outputs": [
    {
     "data": {
      "text/html": [
       "<table>\n",
       "<thead><tr><th scope=col>Time</th><th scope=col>Date</th><th scope=col>Tariff</th><th scope=col>Destination</th><th scope=col>Op</th><th scope=col>ID</th><th scope=col>Status</th><th scope=col>Reason</th></tr></thead>\n",
       "<tbody>\n",
       "\t<tr><td>09:31         </td><td>NA            </td><td>600           </td><td>(277)-65492968</td><td>CellC         </td><td>105747625247S </td><td>2             </td><td>1             </td></tr>\n",
       "\t<tr><td>09:31         </td><td>NA            </td><td>600           </td><td>(276)-53626315</td><td>CellC         </td><td>105747625246J </td><td>2             </td><td>1             </td></tr>\n",
       "\t<tr><td>09:31         </td><td>NA            </td><td>600           </td><td>(276)-17761722</td><td>CellC         </td><td>105747625250F </td><td>2             </td><td>1             </td></tr>\n",
       "\t<tr><td>09:31         </td><td>NA            </td><td>600           </td><td>(276)-03002825</td><td>MTNSA         </td><td>105747625249H </td><td>2             </td><td>1             </td></tr>\n",
       "\t<tr><td>09:31         </td><td>NA            </td><td>600           </td><td>(276)-17761933</td><td>CellC         </td><td>105748025255E </td><td>2             </td><td>1             </td></tr>\n",
       "\t<tr><td>09:31         </td><td>NA            </td><td>600           </td><td>(277)-65493971</td><td>CellC         </td><td>105748025253N </td><td>2             </td><td>1             </td></tr>\n",
       "</tbody>\n",
       "</table>\n"
      ],
      "text/latex": [
       "\\begin{tabular}{r|llllllll}\n",
       " Time & Date & Tariff & Destination & Op & ID & Status & Reason\\\\\n",
       "\\hline\n",
       "\t 09:31          & NA             & 600            & (277)-65492968 & CellC          & 105747625247S  & 2              & 1             \\\\\n",
       "\t 09:31          & NA             & 600            & (276)-53626315 & CellC          & 105747625246J  & 2              & 1             \\\\\n",
       "\t 09:31          & NA             & 600            & (276)-17761722 & CellC          & 105747625250F  & 2              & 1             \\\\\n",
       "\t 09:31          & NA             & 600            & (276)-03002825 & MTNSA          & 105747625249H  & 2              & 1             \\\\\n",
       "\t 09:31          & NA             & 600            & (276)-17761933 & CellC          & 105748025255E  & 2              & 1             \\\\\n",
       "\t 09:31          & NA             & 600            & (277)-65493971 & CellC          & 105748025253N  & 2              & 1             \\\\\n",
       "\\end{tabular}\n"
      ],
      "text/markdown": [
       "\n",
       "| Time | Date | Tariff | Destination | Op | ID | Status | Reason |\n",
       "|---|---|---|---|---|---|---|---|\n",
       "| 09:31          | NA             | 600            | (277)-65492968 | CellC          | 105747625247S  | 2              | 1              |\n",
       "| 09:31          | NA             | 600            | (276)-53626315 | CellC          | 105747625246J  | 2              | 1              |\n",
       "| 09:31          | NA             | 600            | (276)-17761722 | CellC          | 105747625250F  | 2              | 1              |\n",
       "| 09:31          | NA             | 600            | (276)-03002825 | MTNSA          | 105747625249H  | 2              | 1              |\n",
       "| 09:31          | NA             | 600            | (276)-17761933 | CellC          | 105748025255E  | 2              | 1              |\n",
       "| 09:31          | NA             | 600            | (277)-65493971 | CellC          | 105748025253N  | 2              | 1              |\n",
       "\n"
      ],
      "text/plain": [
       "  Time  Date Tariff Destination    Op    ID            Status Reason\n",
       "1 09:31 <NA> 600    (277)-65492968 CellC 105747625247S 2      1     \n",
       "2 09:31 <NA> 600    (276)-53626315 CellC 105747625246J 2      1     \n",
       "3 09:31 <NA> 600    (276)-17761722 CellC 105747625250F 2      1     \n",
       "4 09:31 <NA> 600    (276)-03002825 MTNSA 105747625249H 2      1     \n",
       "5 09:31 <NA> 600    (276)-17761933 CellC 105748025255E 2      1     \n",
       "6 09:31 <NA> 600    (277)-65493971 CellC 105748025253N 2      1     "
      ]
     },
     "metadata": {},
     "output_type": "display_data"
    }
   ],
   "source": [
    "head(netsmartZAFail)"
   ]
  }
 ],
 "metadata": {
  "kernelspec": {
   "display_name": "R",
   "language": "R",
   "name": "ir"
  },
  "language_info": {
   "codemirror_mode": "r",
   "file_extension": ".r",
   "mimetype": "text/x-r-source",
   "name": "R",
   "pygments_lexer": "r",
   "version": "3.4.4"
  }
 },
 "nbformat": 4,
 "nbformat_minor": 2
}
