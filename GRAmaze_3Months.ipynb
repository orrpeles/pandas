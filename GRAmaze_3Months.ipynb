{
 "cells": [
  {
   "cell_type": "code",
   "execution_count": 1,
   "metadata": {},
   "outputs": [],
   "source": [
    "import numpy as np\n",
    "import pandas as pd\n",
    "import matplotlib.pyplot as plt\n",
    "gr = pd.read_csv('/home/enumtheworld/gr_sendsms.csv', low_memory = False) ##creating dataframe, assigning the name gr to it."
   ]
  },
  {
   "cell_type": "code",
   "execution_count": 2,
   "metadata": {},
   "outputs": [
    {
     "data": {
      "text/plain": [
       "(18941098, 12)"
      ]
     },
     "execution_count": 2,
     "metadata": {},
     "output_type": "execute_result"
    }
   ],
   "source": [
    "gr.shape"
   ]
  },
  {
   "cell_type": "code",
   "execution_count": 3,
   "metadata": {},
   "outputs": [],
   "source": [
    "gr1 = gr[:]"
   ]
  },
  {
   "cell_type": "code",
   "execution_count": 4,
   "metadata": {},
   "outputs": [
    {
     "data": {
      "text/plain": [
       "(18941098, 12)"
      ]
     },
     "execution_count": 4,
     "metadata": {},
     "output_type": "execute_result"
    }
   ],
   "source": [
    "gr1.shape"
   ]
  },
  {
   "cell_type": "markdown",
   "metadata": {},
   "source": [
    "**Create 'gr1' object targeting Amaze/Games**"
   ]
  },
  {
   "cell_type": "code",
   "execution_count": 7,
   "metadata": {},
   "outputs": [],
   "source": [
    "gr1 = gr[(gr['AGG'] == \"AMAZE/19366\") & (gr['Service/Keyword'] == 'games')]"
   ]
  },
  {
   "cell_type": "markdown",
   "metadata": {},
   "source": [
    "## Pivot table, countring all results by MNOs for Amaze2/Games: ##"
   ]
  },
  {
   "cell_type": "code",
   "execution_count": 8,
   "metadata": {},
   "outputs": [
    {
     "data": {
      "text/html": [
       "<div>\n",
       "<style scoped>\n",
       "    .dataframe tbody tr th:only-of-type {\n",
       "        vertical-align: middle;\n",
       "    }\n",
       "\n",
       "    .dataframe tbody tr th {\n",
       "        vertical-align: top;\n",
       "    }\n",
       "\n",
       "    .dataframe thead tr th {\n",
       "        text-align: left;\n",
       "    }\n",
       "\n",
       "    .dataframe thead tr:last-of-type th {\n",
       "        text-align: right;\n",
       "    }\n",
       "</style>\n",
       "<table border=\"1\" class=\"dataframe\">\n",
       "  <thead>\n",
       "    <tr>\n",
       "      <th></th>\n",
       "      <th colspan=\"3\" halign=\"left\">AGG</th>\n",
       "    </tr>\n",
       "    <tr>\n",
       "      <th>Result</th>\n",
       "      <th>Failed</th>\n",
       "      <th>Success</th>\n",
       "      <th>Total Result</th>\n",
       "    </tr>\n",
       "    <tr>\n",
       "      <th>Operator</th>\n",
       "      <th></th>\n",
       "      <th></th>\n",
       "      <th></th>\n",
       "    </tr>\n",
       "  </thead>\n",
       "  <tbody>\n",
       "    <tr>\n",
       "      <th>20201</th>\n",
       "      <td>0</td>\n",
       "      <td>1</td>\n",
       "      <td>1</td>\n",
       "    </tr>\n",
       "    <tr>\n",
       "      <th>265</th>\n",
       "      <td>86650</td>\n",
       "      <td>6235</td>\n",
       "      <td>92885</td>\n",
       "    </tr>\n",
       "    <tr>\n",
       "      <th>268</th>\n",
       "      <td>19017</td>\n",
       "      <td>2531</td>\n",
       "      <td>21548</td>\n",
       "    </tr>\n",
       "    <tr>\n",
       "      <th>635</th>\n",
       "      <td>11173</td>\n",
       "      <td>1191</td>\n",
       "      <td>12364</td>\n",
       "    </tr>\n",
       "    <tr>\n",
       "      <th>Total Result</th>\n",
       "      <td>116840</td>\n",
       "      <td>9958</td>\n",
       "      <td>126798</td>\n",
       "    </tr>\n",
       "  </tbody>\n",
       "</table>\n",
       "</div>"
      ],
      "text/plain": [
       "                 AGG                     \n",
       "Result        Failed Success Total Result\n",
       "Operator                                 \n",
       "20201              0       1            1\n",
       "265            86650    6235        92885\n",
       "268            19017    2531        21548\n",
       "635            11173    1191        12364\n",
       "Total Result  116840    9958       126798"
      ]
     },
     "execution_count": 8,
     "metadata": {},
     "output_type": "execute_result"
    }
   ],
   "source": [
    "gr1.pivot_table([\"AGG\"], index='Operator', columns='Result', aggfunc='count', fill_value=0, margins=True, margins_name=\"Total Result\")"
   ]
  },
  {
   "cell_type": "markdown",
   "metadata": {},
   "source": [
    "**Create 'gr2' object targeting Amaze/Trivia**"
   ]
  },
  {
   "cell_type": "code",
   "execution_count": 9,
   "metadata": {},
   "outputs": [],
   "source": [
    "gr2 = gr[(gr['AGG'] == \"AMAZE/19366\") & (gr['Service/Keyword'] == 'trivia')]"
   ]
  },
  {
   "cell_type": "code",
   "execution_count": 10,
   "metadata": {},
   "outputs": [
    {
     "data": {
      "text/plain": [
       "(3994826, 12)"
      ]
     },
     "execution_count": 10,
     "metadata": {},
     "output_type": "execute_result"
    }
   ],
   "source": [
    "gr2.shape"
   ]
  },
  {
   "cell_type": "markdown",
   "metadata": {},
   "source": [
    "## Pivot table, countring all results by MNOs for Amaze2/Trivia: ##"
   ]
  },
  {
   "cell_type": "code",
   "execution_count": 13,
   "metadata": {},
   "outputs": [
    {
     "data": {
      "text/html": [
       "<div>\n",
       "<style scoped>\n",
       "    .dataframe tbody tr th:only-of-type {\n",
       "        vertical-align: middle;\n",
       "    }\n",
       "\n",
       "    .dataframe tbody tr th {\n",
       "        vertical-align: top;\n",
       "    }\n",
       "\n",
       "    .dataframe thead tr th {\n",
       "        text-align: left;\n",
       "    }\n",
       "\n",
       "    .dataframe thead tr:last-of-type th {\n",
       "        text-align: right;\n",
       "    }\n",
       "</style>\n",
       "<table border=\"1\" class=\"dataframe\">\n",
       "  <thead>\n",
       "    <tr>\n",
       "      <th></th>\n",
       "      <th colspan=\"4\" halign=\"left\">AGG</th>\n",
       "    </tr>\n",
       "    <tr>\n",
       "      <th>Result</th>\n",
       "      <th>Error</th>\n",
       "      <th>Failed</th>\n",
       "      <th>Success</th>\n",
       "      <th>Total Result</th>\n",
       "    </tr>\n",
       "    <tr>\n",
       "      <th>Operator</th>\n",
       "      <th></th>\n",
       "      <th></th>\n",
       "      <th></th>\n",
       "      <th></th>\n",
       "    </tr>\n",
       "  </thead>\n",
       "  <tbody>\n",
       "    <tr>\n",
       "      <th>20201</th>\n",
       "      <td>9</td>\n",
       "      <td>69637</td>\n",
       "      <td>7868</td>\n",
       "      <td>77514</td>\n",
       "    </tr>\n",
       "    <tr>\n",
       "      <th>20205</th>\n",
       "      <td>15</td>\n",
       "      <td>36868</td>\n",
       "      <td>3725</td>\n",
       "      <td>40608</td>\n",
       "    </tr>\n",
       "    <tr>\n",
       "      <th>20209</th>\n",
       "      <td>0</td>\n",
       "      <td>3752</td>\n",
       "      <td>204</td>\n",
       "      <td>3956</td>\n",
       "    </tr>\n",
       "    <tr>\n",
       "      <th>20210</th>\n",
       "      <td>0</td>\n",
       "      <td>5634</td>\n",
       "      <td>1174</td>\n",
       "      <td>6808</td>\n",
       "    </tr>\n",
       "    <tr>\n",
       "      <th>20214</th>\n",
       "      <td>0</td>\n",
       "      <td>400</td>\n",
       "      <td>353</td>\n",
       "      <td>753</td>\n",
       "    </tr>\n",
       "    <tr>\n",
       "      <th>265</th>\n",
       "      <td>3</td>\n",
       "      <td>2038716</td>\n",
       "      <td>27863</td>\n",
       "      <td>2066582</td>\n",
       "    </tr>\n",
       "    <tr>\n",
       "      <th>268</th>\n",
       "      <td>6</td>\n",
       "      <td>1348072</td>\n",
       "      <td>9132</td>\n",
       "      <td>1357210</td>\n",
       "    </tr>\n",
       "    <tr>\n",
       "      <th>635</th>\n",
       "      <td>0</td>\n",
       "      <td>337165</td>\n",
       "      <td>5343</td>\n",
       "      <td>342508</td>\n",
       "    </tr>\n",
       "    <tr>\n",
       "      <th>CosmOte</th>\n",
       "      <td>0</td>\n",
       "      <td>2754</td>\n",
       "      <td>185</td>\n",
       "      <td>2939</td>\n",
       "    </tr>\n",
       "    <tr>\n",
       "      <th>GR_COSMOTE</th>\n",
       "      <td>0</td>\n",
       "      <td>15</td>\n",
       "      <td>9</td>\n",
       "      <td>24</td>\n",
       "    </tr>\n",
       "    <tr>\n",
       "      <th>GR_VODAFONE</th>\n",
       "      <td>0</td>\n",
       "      <td>45</td>\n",
       "      <td>0</td>\n",
       "      <td>45</td>\n",
       "    </tr>\n",
       "    <tr>\n",
       "      <th>GR_WIND</th>\n",
       "      <td>0</td>\n",
       "      <td>0</td>\n",
       "      <td>3</td>\n",
       "      <td>3</td>\n",
       "    </tr>\n",
       "    <tr>\n",
       "      <th>VodafoneGR</th>\n",
       "      <td>0</td>\n",
       "      <td>1058</td>\n",
       "      <td>61</td>\n",
       "      <td>1119</td>\n",
       "    </tr>\n",
       "    <tr>\n",
       "      <th>WIND</th>\n",
       "      <td>0</td>\n",
       "      <td>365</td>\n",
       "      <td>30</td>\n",
       "      <td>395</td>\n",
       "    </tr>\n",
       "    <tr>\n",
       "      <th>Total Result</th>\n",
       "      <td>33</td>\n",
       "      <td>3844481</td>\n",
       "      <td>55950</td>\n",
       "      <td>3900464</td>\n",
       "    </tr>\n",
       "  </tbody>\n",
       "</table>\n",
       "</div>"
      ],
      "text/plain": [
       "               AGG                              \n",
       "Result       Error   Failed Success Total Result\n",
       "Operator                                        \n",
       "20201            9    69637    7868        77514\n",
       "20205           15    36868    3725        40608\n",
       "20209            0     3752     204         3956\n",
       "20210            0     5634    1174         6808\n",
       "20214            0      400     353          753\n",
       "265              3  2038716   27863      2066582\n",
       "268              6  1348072    9132      1357210\n",
       "635              0   337165    5343       342508\n",
       "CosmOte          0     2754     185         2939\n",
       "GR_COSMOTE       0       15       9           24\n",
       "GR_VODAFONE      0       45       0           45\n",
       "GR_WIND          0        0       3            3\n",
       "VodafoneGR       0     1058      61         1119\n",
       "WIND             0      365      30          395\n",
       "Total Result    33  3844481   55950      3900464"
      ]
     },
     "execution_count": 13,
     "metadata": {},
     "output_type": "execute_result"
    }
   ],
   "source": [
    "gr2.pivot_table([\"AGG\"], index='Operator', columns='Result', aggfunc='count', fill_value=0, margins=True, margins_name=\"Total Result\")"
   ]
  },
  {
   "cell_type": "markdown",
   "metadata": {},
   "source": [
    "**List of top 10 MSISDN by billing tries**"
   ]
  },
  {
   "cell_type": "code",
   "execution_count": 14,
   "metadata": {},
   "outputs": [
    {
     "data": {
      "text/plain": [
       "(306)-951141181    217\n",
       "(306)-988597633    215\n",
       "(306)-974930325    186\n",
       "(306)-973459720    171\n",
       "(306)-934565072    171\n",
       "(306)-986656961    168\n",
       "(306)-975988037    165\n",
       "(306)-986399230    162\n",
       "(306)-947582371    162\n",
       "(306)-977920743    162\n",
       "Name: MSISDN, dtype: int64"
      ]
     },
     "execution_count": 14,
     "metadata": {},
     "output_type": "execute_result"
    }
   ],
   "source": [
    "gr2.MSISDN.value_counts().head(10)"
   ]
  },
  {
   "cell_type": "markdown",
   "metadata": {},
   "source": [
    "## Creating gr3 object - Amaze / Trivia / Success ##"
   ]
  },
  {
   "cell_type": "code",
   "execution_count": 15,
   "metadata": {},
   "outputs": [],
   "source": [
    "gr3 = gr[(gr['AGG'] == \"AMAZE/19366\") & (gr['Service/Keyword'] == 'trivia') & (gr['Result']== 'Success')]"
   ]
  },
  {
   "cell_type": "code",
   "execution_count": 16,
   "metadata": {},
   "outputs": [
    {
     "data": {
      "text/plain": [
       "(55950, 12)"
      ]
     },
     "execution_count": 16,
     "metadata": {},
     "output_type": "execute_result"
    }
   ],
   "source": [
    "gr3.shape"
   ]
  },
  {
   "cell_type": "markdown",
   "metadata": {},
   "source": [
    "**Top 10 MSISDN Amaze/Trivia/Succeess**"
   ]
  },
  {
   "cell_type": "code",
   "execution_count": 19,
   "metadata": {},
   "outputs": [
    {
     "data": {
      "text/plain": [
       "(306)-980925365    50\n",
       "(306)-973300691    48\n",
       "(306)-972053126    48\n",
       "(306)-985601857    48\n",
       "(306)-973833623    48\n",
       "(306)-971948413    48\n",
       "(306)-976924510    48\n",
       "(306)-979554492    48\n",
       "(306)-949590006    48\n",
       "(306)-944695156    48\n",
       "Name: MSISDN, dtype: int64"
      ]
     },
     "execution_count": 19,
     "metadata": {},
     "output_type": "execute_result"
    }
   ],
   "source": [
    "gr3.MSISDN.value_counts().head(10)"
   ]
  },
  {
   "cell_type": "markdown",
   "metadata": {},
   "source": [
    "## Import gr3 into excel ##"
   ]
  },
  {
   "cell_type": "code",
   "execution_count": 21,
   "metadata": {},
   "outputs": [],
   "source": [
    "gr3.to_excel('/home/enumtheworld/gr_amaze_trivia_success.xlsx')"
   ]
  }
 ],
 "metadata": {
  "kernelspec": {
   "display_name": "Python 3",
   "language": "python",
   "name": "python3"
  },
  "language_info": {
   "codemirror_mode": {
    "name": "ipython",
    "version": 3
   },
   "file_extension": ".py",
   "mimetype": "text/x-python",
   "name": "python",
   "nbconvert_exporter": "python",
   "pygments_lexer": "ipython3",
   "version": "3.7.1"
  }
 },
 "nbformat": 4,
 "nbformat_minor": 2
}
