{
 "cells": [
  {
   "cell_type": "markdown",
   "metadata": {},
   "source": [
    "## 1.) Import relevant libraries -> Numpy, Pandas, Matplotlib\n",
    "## 2.) Create and read into the file we are interested to analyze"
   ]
  },
  {
   "cell_type": "code",
   "execution_count": 1,
   "metadata": {},
   "outputs": [],
   "source": [
    "import numpy as np\n",
    "import pandas as pd\n",
    "import matplotlib.pyplot as plt\n",
    "gr = pd.read_csv('/home/enumtheworld/gr_sendsms.csv', low_memory = False) ##creating dataframe, assigning the name gr to it."
   ]
  },
  {
   "cell_type": "markdown",
   "metadata": {},
   "source": [
    "## Display 10 first lines of dataframe called 'gr'"
   ]
  },
  {
   "cell_type": "code",
   "execution_count": 2,
   "metadata": {
    "scrolled": false
   },
   "outputs": [
    {
     "data": {
      "text/html": [
       "<div>\n",
       "<style scoped>\n",
       "    .dataframe tbody tr th:only-of-type {\n",
       "        vertical-align: middle;\n",
       "    }\n",
       "\n",
       "    .dataframe tbody tr th {\n",
       "        vertical-align: top;\n",
       "    }\n",
       "\n",
       "    .dataframe thead th {\n",
       "        text-align: right;\n",
       "    }\n",
       "</style>\n",
       "<table border=\"1\" class=\"dataframe\">\n",
       "  <thead>\n",
       "    <tr style=\"text-align: right;\">\n",
       "      <th></th>\n",
       "      <th>Date</th>\n",
       "      <th>Time</th>\n",
       "      <th>Price</th>\n",
       "      <th>MSISDN</th>\n",
       "      <th>MSGID</th>\n",
       "      <th>AGG</th>\n",
       "      <th>Result</th>\n",
       "      <th>Code</th>\n",
       "      <th>Description</th>\n",
       "      <th>Description2</th>\n",
       "      <th>Operator</th>\n",
       "      <th>Service/Keyword</th>\n",
       "    </tr>\n",
       "  </thead>\n",
       "  <tbody>\n",
       "    <tr>\n",
       "      <th>0</th>\n",
       "      <td>1/Oct/2018</td>\n",
       "      <td>00:24</td>\n",
       "      <td>208</td>\n",
       "      <td>(306)-945450360</td>\n",
       "      <td>834265719720S</td>\n",
       "      <td>AMAZE/19366</td>\n",
       "      <td>Success</td>\n",
       "      <td>5</td>\n",
       "      <td>Delivered To Phone</td>\n",
       "      <td>NaN</td>\n",
       "      <td>20205</td>\n",
       "      <td>trivia</td>\n",
       "    </tr>\n",
       "    <tr>\n",
       "      <th>1</th>\n",
       "      <td>1/Oct/2018</td>\n",
       "      <td>00:24</td>\n",
       "      <td>208</td>\n",
       "      <td>(306)-945450360</td>\n",
       "      <td>834265819726O</td>\n",
       "      <td>AMAZE/19366</td>\n",
       "      <td>Success</td>\n",
       "      <td>5</td>\n",
       "      <td>Delivered To Phone</td>\n",
       "      <td>NaN</td>\n",
       "      <td>20205</td>\n",
       "      <td>trivia</td>\n",
       "    </tr>\n",
       "    <tr>\n",
       "      <th>2</th>\n",
       "      <td>1/Oct/2018</td>\n",
       "      <td>00:24</td>\n",
       "      <td>208</td>\n",
       "      <td>(306)-945450360</td>\n",
       "      <td>834265819730F</td>\n",
       "      <td>AMAZE/19366</td>\n",
       "      <td>Success</td>\n",
       "      <td>5</td>\n",
       "      <td>Delivered To Phone</td>\n",
       "      <td>NaN</td>\n",
       "      <td>20205</td>\n",
       "      <td>trivia</td>\n",
       "    </tr>\n",
       "    <tr>\n",
       "      <th>3</th>\n",
       "      <td>1/Oct/2018</td>\n",
       "      <td>00:24</td>\n",
       "      <td>208</td>\n",
       "      <td>(306)-942019956</td>\n",
       "      <td>834268619802B</td>\n",
       "      <td>AMAZE/19366</td>\n",
       "      <td>Failed</td>\n",
       "      <td>12</td>\n",
       "      <td>Out of Credit Vodafone</td>\n",
       "      <td>NaN</td>\n",
       "      <td>20205</td>\n",
       "      <td>trivia</td>\n",
       "    </tr>\n",
       "    <tr>\n",
       "      <th>4</th>\n",
       "      <td>1/Oct/2018</td>\n",
       "      <td>00:24</td>\n",
       "      <td>208</td>\n",
       "      <td>(306)-942019956</td>\n",
       "      <td>834268719807T</td>\n",
       "      <td>AMAZE/19366</td>\n",
       "      <td>Failed</td>\n",
       "      <td>12</td>\n",
       "      <td>Out of Credit Vodafone</td>\n",
       "      <td>NaN</td>\n",
       "      <td>20205</td>\n",
       "      <td>trivia</td>\n",
       "    </tr>\n",
       "    <tr>\n",
       "      <th>5</th>\n",
       "      <td>1/Oct/2018</td>\n",
       "      <td>00:24</td>\n",
       "      <td>208</td>\n",
       "      <td>(306)-942019956</td>\n",
       "      <td>834268719810P</td>\n",
       "      <td>AMAZE/19366</td>\n",
       "      <td>Failed</td>\n",
       "      <td>12</td>\n",
       "      <td>Out of Credit Vodafone</td>\n",
       "      <td>NaN</td>\n",
       "      <td>20205</td>\n",
       "      <td>trivia</td>\n",
       "    </tr>\n",
       "    <tr>\n",
       "      <th>6</th>\n",
       "      <td>1/Oct/2018</td>\n",
       "      <td>00:39</td>\n",
       "      <td>208</td>\n",
       "      <td>(306)-955506964</td>\n",
       "      <td>834355322761V</td>\n",
       "      <td>AMAZE/19366</td>\n",
       "      <td>Failed</td>\n",
       "      <td>13</td>\n",
       "      <td>Subscriber Barred</td>\n",
       "      <td>NaN</td>\n",
       "      <td>20205</td>\n",
       "      <td>trivia</td>\n",
       "    </tr>\n",
       "    <tr>\n",
       "      <th>7</th>\n",
       "      <td>1/Oct/2018</td>\n",
       "      <td>00:39</td>\n",
       "      <td>208</td>\n",
       "      <td>(306)-955506964</td>\n",
       "      <td>834355322766V</td>\n",
       "      <td>AMAZE/19366</td>\n",
       "      <td>Failed</td>\n",
       "      <td>13</td>\n",
       "      <td>Subscriber Barred</td>\n",
       "      <td>NaN</td>\n",
       "      <td>20205</td>\n",
       "      <td>trivia</td>\n",
       "    </tr>\n",
       "    <tr>\n",
       "      <th>8</th>\n",
       "      <td>1/Oct/2018</td>\n",
       "      <td>00:39</td>\n",
       "      <td>208</td>\n",
       "      <td>(306)-955506964</td>\n",
       "      <td>834355422770K</td>\n",
       "      <td>AMAZE/19366</td>\n",
       "      <td>Failed</td>\n",
       "      <td>13</td>\n",
       "      <td>Subscriber Barred</td>\n",
       "      <td>NaN</td>\n",
       "      <td>20205</td>\n",
       "      <td>trivia</td>\n",
       "    </tr>\n",
       "    <tr>\n",
       "      <th>9</th>\n",
       "      <td>1/Oct/2018</td>\n",
       "      <td>01:57</td>\n",
       "      <td>208</td>\n",
       "      <td>(306)-944811010</td>\n",
       "      <td>83482727684E</td>\n",
       "      <td>AMAZE/19366</td>\n",
       "      <td>Failed</td>\n",
       "      <td>13</td>\n",
       "      <td>Subscriber Barred</td>\n",
       "      <td>NaN</td>\n",
       "      <td>20205</td>\n",
       "      <td>trivia</td>\n",
       "    </tr>\n",
       "  </tbody>\n",
       "</table>\n",
       "</div>"
      ],
      "text/plain": [
       "         Date   Time  Price           MSISDN          MSGID          AGG  \\\n",
       "0  1/Oct/2018  00:24    208  (306)-945450360  834265719720S  AMAZE/19366   \n",
       "1  1/Oct/2018  00:24    208  (306)-945450360  834265819726O  AMAZE/19366   \n",
       "2  1/Oct/2018  00:24    208  (306)-945450360  834265819730F  AMAZE/19366   \n",
       "3  1/Oct/2018  00:24    208  (306)-942019956  834268619802B  AMAZE/19366   \n",
       "4  1/Oct/2018  00:24    208  (306)-942019956  834268719807T  AMAZE/19366   \n",
       "5  1/Oct/2018  00:24    208  (306)-942019956  834268719810P  AMAZE/19366   \n",
       "6  1/Oct/2018  00:39    208  (306)-955506964  834355322761V  AMAZE/19366   \n",
       "7  1/Oct/2018  00:39    208  (306)-955506964  834355322766V  AMAZE/19366   \n",
       "8  1/Oct/2018  00:39    208  (306)-955506964  834355422770K  AMAZE/19366   \n",
       "9  1/Oct/2018  01:57    208  (306)-944811010   83482727684E  AMAZE/19366   \n",
       "\n",
       "    Result Code             Description Description2 Operator Service/Keyword  \n",
       "0  Success    5      Delivered To Phone          NaN    20205          trivia  \n",
       "1  Success    5      Delivered To Phone          NaN    20205          trivia  \n",
       "2  Success    5      Delivered To Phone          NaN    20205          trivia  \n",
       "3   Failed   12  Out of Credit Vodafone          NaN    20205          trivia  \n",
       "4   Failed   12  Out of Credit Vodafone          NaN    20205          trivia  \n",
       "5   Failed   12  Out of Credit Vodafone          NaN    20205          trivia  \n",
       "6   Failed   13       Subscriber Barred          NaN    20205          trivia  \n",
       "7   Failed   13       Subscriber Barred          NaN    20205          trivia  \n",
       "8   Failed   13       Subscriber Barred          NaN    20205          trivia  \n",
       "9   Failed   13       Subscriber Barred          NaN    20205          trivia  "
      ]
     },
     "execution_count": 2,
     "metadata": {},
     "output_type": "execute_result"
    }
   ],
   "source": [
    "gr.head(10)"
   ]
  },
  {
   "cell_type": "markdown",
   "metadata": {},
   "source": [
    "## Shape shows the database, here we have close to 19M rows on 12 columns ##"
   ]
  },
  {
   "cell_type": "code",
   "execution_count": 2,
   "metadata": {},
   "outputs": [
    {
     "data": {
      "text/plain": [
       "(18941098, 12)"
      ]
     },
     "execution_count": 2,
     "metadata": {},
     "output_type": "execute_result"
    }
   ],
   "source": [
    "gr.shape"
   ]
  },
  {
   "cell_type": "markdown",
   "metadata": {},
   "source": [
    "## How many unique aggregators are there?"
   ]
  },
  {
   "cell_type": "code",
   "execution_count": 4,
   "metadata": {},
   "outputs": [
    {
     "data": {
      "text/plain": [
       "(NETSMART3/54422    6082919\n",
       " AMAZE/19366        4250978\n",
       " NETSMART4/54422    3862503\n",
       " NETSMART/54422     2978787\n",
       " AMAZE2/19366        837682\n",
       " NETSMART2/54422     768555\n",
       " VEOO/54850          159630\n",
       " AMAZE3/19366            43\n",
       " Name: AGG, dtype: int64, 18941097)"
      ]
     },
     "execution_count": 4,
     "metadata": {},
     "output_type": "execute_result"
    }
   ],
   "source": [
    "gr.AGG.value_counts() , sum(gr.AGG.value_counts())"
   ]
  },
  {
   "cell_type": "code",
   "execution_count": 5,
   "metadata": {},
   "outputs": [
    {
     "data": {
      "text/plain": [
       "['AMAZE/19366',\n",
       " 'NETSMART/54422',\n",
       " 'NETSMART4/54422',\n",
       " 'NETSMART3/54422',\n",
       " 'NETSMART2/54422',\n",
       " 'VEOO/54850',\n",
       " nan,\n",
       " 'AMAZE2/19366',\n",
       " 'AMAZE3/19366']"
      ]
     },
     "execution_count": 5,
     "metadata": {},
     "output_type": "execute_result"
    }
   ],
   "source": [
    "gr.AGG.unique().tolist()"
   ]
  },
  {
   "cell_type": "markdown",
   "metadata": {},
   "source": [
    "## How many operators are there?"
   ]
  },
  {
   "cell_type": "code",
   "execution_count": 6,
   "metadata": {},
   "outputs": [
    {
     "data": {
      "text/plain": [
       "CosmOte        6253690\n",
       "265            2393602\n",
       "VodafoneGR     2080322\n",
       "20210          1974315\n",
       "268            1677533\n",
       "WIND           1548833\n",
       "Cosmote         698068\n",
       "635             678700\n",
       "20201           438341\n",
       "20209           392734\n",
       "20205           333070\n",
       "Wind            219005\n",
       "Vodafone        214877\n",
       "20214             8093\n",
       "GR_WIND            444\n",
       "00                 245\n",
       "CyTa               196\n",
       "GR_VODAFONE         45\n",
       "GR_COSMOTE          24\n",
       "Name: Operator, dtype: int64"
      ]
     },
     "execution_count": 6,
     "metadata": {},
     "output_type": "execute_result"
    }
   ],
   "source": [
    "gr.Operator.value_counts()"
   ]
  },
  {
   "cell_type": "code",
   "execution_count": 8,
   "metadata": {},
   "outputs": [
    {
     "data": {
      "text/plain": [
       "18912137"
      ]
     },
     "execution_count": 8,
     "metadata": {},
     "output_type": "execute_result"
    }
   ],
   "source": [
    "sum(gr.Operator.value_counts())"
   ]
  },
  {
   "cell_type": "markdown",
   "metadata": {},
   "source": [
    "## How many keywords are there?"
   ]
  },
  {
   "cell_type": "code",
   "execution_count": 8,
   "metadata": {},
   "outputs": [
    {
     "data": {
      "text/plain": [
       "games     14677676\n",
       "trivia     3994826\n",
       "pics         42446\n",
       "Name: Service/Keyword, dtype: int64"
      ]
     },
     "execution_count": 8,
     "metadata": {},
     "output_type": "execute_result"
    }
   ],
   "source": [
    "gr[\"Service/Keyword\"].value_counts()"
   ]
  },
  {
   "cell_type": "code",
   "execution_count": 9,
   "metadata": {},
   "outputs": [
    {
     "data": {
      "text/plain": [
       "18714948"
      ]
     },
     "execution_count": 9,
     "metadata": {},
     "output_type": "execute_result"
    }
   ],
   "source": [
    "sum(gr[\"Service/Keyword\"].value_counts())"
   ]
  },
  {
   "cell_type": "code",
   "execution_count": 10,
   "metadata": {},
   "outputs": [
    {
     "data": {
      "text/plain": [
       "array(['trivia', 'games', nan, 'pics'], dtype=object)"
      ]
     },
     "execution_count": 10,
     "metadata": {},
     "output_type": "execute_result"
    }
   ],
   "source": [
    "gr[\"Service/Keyword\"].unique()"
   ]
  },
  {
   "cell_type": "markdown",
   "metadata": {},
   "source": [
    "## We received value of 'nan' *blanks*, how do we analyze it?\n",
    "1.) Let's have a look at all indexes, \"True\" means we have NaN values:"
   ]
  },
  {
   "cell_type": "code",
   "execution_count": 11,
   "metadata": {
    "scrolled": true
   },
   "outputs": [
    {
     "data": {
      "text/plain": [
       "Date               False\n",
       "Time               False\n",
       "Price              False\n",
       "MSISDN             False\n",
       "MSGID               True\n",
       "AGG                 True\n",
       "Result              True\n",
       "Code                True\n",
       "Description         True\n",
       "Description2        True\n",
       "Operator            True\n",
       "Service/Keyword     True\n",
       "dtype: bool"
      ]
     },
     "execution_count": 11,
     "metadata": {},
     "output_type": "execute_result"
    }
   ],
   "source": [
    "gr.isnull().any()"
   ]
  },
  {
   "cell_type": "markdown",
   "metadata": {},
   "source": [
    "2.) Let's check how many NaN for each column, it will help us spot more issues:"
   ]
  },
  {
   "cell_type": "code",
   "execution_count": 12,
   "metadata": {
    "scrolled": true
   },
   "outputs": [
    {
     "data": {
      "text/plain": [
       "MSGID                    51\n",
       "AGG                       1\n",
       "Result             13178982\n",
       "Code               13178982\n",
       "Description        14021846\n",
       "Description2       18829361\n",
       "Operator              28961\n",
       "Service/Keyword      226150\n",
       "dtype: int64"
      ]
     },
     "execution_count": 12,
     "metadata": {},
     "output_type": "execute_result"
    }
   ],
   "source": [
    "null_columns = gr.columns[gr.isnull().any()]\n",
    "gr[null_columns].isnull().sum()"
   ]
  },
  {
   "cell_type": "markdown",
   "metadata": {},
   "source": [
    "3.) Based on results I will create a new DataFrame (gr1) I will also omit a few columns which I do not need for my research"
   ]
  },
  {
   "cell_type": "code",
   "execution_count": 13,
   "metadata": {},
   "outputs": [],
   "source": [
    "gr1 = pd.read_csv('/home/enumtheworld/gr_sendsms.csv', usecols=['Date', 'Time', 'MSISDN', 'AGG', 'Result', 'Description', 'Operator', 'Service/Keyword'], low_memory=False)"
   ]
  },
  {
   "cell_type": "code",
   "execution_count": 14,
   "metadata": {},
   "outputs": [
    {
     "data": {
      "text/html": [
       "<div>\n",
       "<style scoped>\n",
       "    .dataframe tbody tr th:only-of-type {\n",
       "        vertical-align: middle;\n",
       "    }\n",
       "\n",
       "    .dataframe tbody tr th {\n",
       "        vertical-align: top;\n",
       "    }\n",
       "\n",
       "    .dataframe thead th {\n",
       "        text-align: right;\n",
       "    }\n",
       "</style>\n",
       "<table border=\"1\" class=\"dataframe\">\n",
       "  <thead>\n",
       "    <tr style=\"text-align: right;\">\n",
       "      <th></th>\n",
       "      <th>Date</th>\n",
       "      <th>Time</th>\n",
       "      <th>MSISDN</th>\n",
       "      <th>AGG</th>\n",
       "      <th>Result</th>\n",
       "      <th>Description</th>\n",
       "      <th>Operator</th>\n",
       "      <th>Service/Keyword</th>\n",
       "    </tr>\n",
       "  </thead>\n",
       "  <tbody>\n",
       "    <tr>\n",
       "      <th>0</th>\n",
       "      <td>1/Oct/2018</td>\n",
       "      <td>00:24</td>\n",
       "      <td>(306)-945450360</td>\n",
       "      <td>AMAZE/19366</td>\n",
       "      <td>Success</td>\n",
       "      <td>Delivered To Phone</td>\n",
       "      <td>20205</td>\n",
       "      <td>trivia</td>\n",
       "    </tr>\n",
       "    <tr>\n",
       "      <th>1</th>\n",
       "      <td>1/Oct/2018</td>\n",
       "      <td>00:24</td>\n",
       "      <td>(306)-945450360</td>\n",
       "      <td>AMAZE/19366</td>\n",
       "      <td>Success</td>\n",
       "      <td>Delivered To Phone</td>\n",
       "      <td>20205</td>\n",
       "      <td>trivia</td>\n",
       "    </tr>\n",
       "    <tr>\n",
       "      <th>2</th>\n",
       "      <td>1/Oct/2018</td>\n",
       "      <td>00:24</td>\n",
       "      <td>(306)-945450360</td>\n",
       "      <td>AMAZE/19366</td>\n",
       "      <td>Success</td>\n",
       "      <td>Delivered To Phone</td>\n",
       "      <td>20205</td>\n",
       "      <td>trivia</td>\n",
       "    </tr>\n",
       "    <tr>\n",
       "      <th>3</th>\n",
       "      <td>1/Oct/2018</td>\n",
       "      <td>00:24</td>\n",
       "      <td>(306)-942019956</td>\n",
       "      <td>AMAZE/19366</td>\n",
       "      <td>Failed</td>\n",
       "      <td>Out of Credit Vodafone</td>\n",
       "      <td>20205</td>\n",
       "      <td>trivia</td>\n",
       "    </tr>\n",
       "    <tr>\n",
       "      <th>4</th>\n",
       "      <td>1/Oct/2018</td>\n",
       "      <td>00:24</td>\n",
       "      <td>(306)-942019956</td>\n",
       "      <td>AMAZE/19366</td>\n",
       "      <td>Failed</td>\n",
       "      <td>Out of Credit Vodafone</td>\n",
       "      <td>20205</td>\n",
       "      <td>trivia</td>\n",
       "    </tr>\n",
       "  </tbody>\n",
       "</table>\n",
       "</div>"
      ],
      "text/plain": [
       "         Date   Time           MSISDN          AGG   Result  \\\n",
       "0  1/Oct/2018  00:24  (306)-945450360  AMAZE/19366  Success   \n",
       "1  1/Oct/2018  00:24  (306)-945450360  AMAZE/19366  Success   \n",
       "2  1/Oct/2018  00:24  (306)-945450360  AMAZE/19366  Success   \n",
       "3  1/Oct/2018  00:24  (306)-942019956  AMAZE/19366   Failed   \n",
       "4  1/Oct/2018  00:24  (306)-942019956  AMAZE/19366   Failed   \n",
       "\n",
       "              Description Operator Service/Keyword  \n",
       "0      Delivered To Phone    20205          trivia  \n",
       "1      Delivered To Phone    20205          trivia  \n",
       "2      Delivered To Phone    20205          trivia  \n",
       "3  Out of Credit Vodafone    20205          trivia  \n",
       "4  Out of Credit Vodafone    20205          trivia  "
      ]
     },
     "execution_count": 14,
     "metadata": {},
     "output_type": "execute_result"
    }
   ],
   "source": [
    "gr1.head()"
   ]
  },
  {
   "cell_type": "code",
   "execution_count": 16,
   "metadata": {},
   "outputs": [
    {
     "data": {
      "text/plain": [
       "Date               False\n",
       "Time               False\n",
       "MSISDN             False\n",
       "AGG                 True\n",
       "Result              True\n",
       "Description         True\n",
       "Operator            True\n",
       "Service/Keyword     True\n",
       "dtype: bool"
      ]
     },
     "execution_count": 16,
     "metadata": {},
     "output_type": "execute_result"
    }
   ],
   "source": [
    "gr1.isnull().any()"
   ]
  },
  {
   "cell_type": "code",
   "execution_count": 19,
   "metadata": {},
   "outputs": [
    {
     "data": {
      "text/plain": [
       "AGG                       1\n",
       "Result             13178982\n",
       "Description        14021846\n",
       "Operator              28961\n",
       "Service/Keyword      226150\n",
       "dtype: int64"
      ]
     },
     "execution_count": 19,
     "metadata": {},
     "output_type": "execute_result"
    }
   ],
   "source": [
    "null_columns1 = gr1.columns[gr1.isnull().any()]\n",
    "gr1[null_columns1].isnull().sum()"
   ]
  },
  {
   "cell_type": "markdown",
   "metadata": {},
   "source": [
    "5.) I would like to get rid of the 1 missing AGG row"
   ]
  },
  {
   "cell_type": "code",
   "execution_count": 21,
   "metadata": {},
   "outputs": [],
   "source": [
    "gr1 = gr1.dropna(subset=['AGG'])"
   ]
  },
  {
   "cell_type": "code",
   "execution_count": 23,
   "metadata": {},
   "outputs": [
    {
     "data": {
      "text/plain": [
       "Result             13178982\n",
       "Description        14021845\n",
       "Operator              28960\n",
       "Service/Keyword      226149\n",
       "dtype: int64"
      ]
     },
     "execution_count": 23,
     "metadata": {},
     "output_type": "execute_result"
    }
   ],
   "source": [
    "null_columns1 = gr1.columns[gr1.isnull().any()]\n",
    "gr1[null_columns1].isnull().sum()"
   ]
  },
  {
   "cell_type": "markdown",
   "metadata": {},
   "source": [
    "## 1.) This is a pivot table, counting all failed Results by MNOs"
   ]
  },
  {
   "cell_type": "code",
   "execution_count": 3,
   "metadata": {
    "scrolled": false
   },
   "outputs": [
    {
     "data": {
      "text/html": [
       "<div>\n",
       "<style scoped>\n",
       "    .dataframe tbody tr th:only-of-type {\n",
       "        vertical-align: middle;\n",
       "    }\n",
       "\n",
       "    .dataframe tbody tr th {\n",
       "        vertical-align: top;\n",
       "    }\n",
       "\n",
       "    .dataframe thead tr th {\n",
       "        text-align: left;\n",
       "    }\n",
       "\n",
       "    .dataframe thead tr:last-of-type th {\n",
       "        text-align: right;\n",
       "    }\n",
       "</style>\n",
       "<table border=\"1\" class=\"dataframe\">\n",
       "  <thead>\n",
       "    <tr>\n",
       "      <th></th>\n",
       "      <th colspan=\"4\" halign=\"left\">MSISDN</th>\n",
       "    </tr>\n",
       "    <tr>\n",
       "      <th>Result</th>\n",
       "      <th>Error</th>\n",
       "      <th>Failed</th>\n",
       "      <th>Success</th>\n",
       "      <th>All</th>\n",
       "    </tr>\n",
       "    <tr>\n",
       "      <th>AGG</th>\n",
       "      <th></th>\n",
       "      <th></th>\n",
       "      <th></th>\n",
       "      <th></th>\n",
       "    </tr>\n",
       "  </thead>\n",
       "  <tbody>\n",
       "    <tr>\n",
       "      <th>AMAZE/19366</th>\n",
       "      <td>90</td>\n",
       "      <td>3961321</td>\n",
       "      <td>65908</td>\n",
       "      <td>4027319</td>\n",
       "    </tr>\n",
       "    <tr>\n",
       "      <th>AMAZE2/19366</th>\n",
       "      <td>2</td>\n",
       "      <td>764480</td>\n",
       "      <td>15773</td>\n",
       "      <td>780255</td>\n",
       "    </tr>\n",
       "    <tr>\n",
       "      <th>AMAZE3/19366</th>\n",
       "      <td>0</td>\n",
       "      <td>24</td>\n",
       "      <td>12</td>\n",
       "      <td>36</td>\n",
       "    </tr>\n",
       "    <tr>\n",
       "      <th>NETSMART/54422</th>\n",
       "      <td>193778</td>\n",
       "      <td>0</td>\n",
       "      <td>0</td>\n",
       "      <td>193778</td>\n",
       "    </tr>\n",
       "    <tr>\n",
       "      <th>NETSMART2/54422</th>\n",
       "      <td>16110</td>\n",
       "      <td>0</td>\n",
       "      <td>0</td>\n",
       "      <td>16110</td>\n",
       "    </tr>\n",
       "    <tr>\n",
       "      <th>NETSMART3/54422</th>\n",
       "      <td>466377</td>\n",
       "      <td>0</td>\n",
       "      <td>0</td>\n",
       "      <td>466377</td>\n",
       "    </tr>\n",
       "    <tr>\n",
       "      <th>NETSMART4/54422</th>\n",
       "      <td>119311</td>\n",
       "      <td>0</td>\n",
       "      <td>0</td>\n",
       "      <td>119311</td>\n",
       "    </tr>\n",
       "    <tr>\n",
       "      <th>VEOO/54850</th>\n",
       "      <td>47192</td>\n",
       "      <td>105561</td>\n",
       "      <td>6176</td>\n",
       "      <td>158929</td>\n",
       "    </tr>\n",
       "    <tr>\n",
       "      <th>All</th>\n",
       "      <td>842860</td>\n",
       "      <td>4831386</td>\n",
       "      <td>87869</td>\n",
       "      <td>5762115</td>\n",
       "    </tr>\n",
       "  </tbody>\n",
       "</table>\n",
       "</div>"
      ],
      "text/plain": [
       "                 MSISDN                          \n",
       "Result            Error   Failed Success      All\n",
       "AGG                                              \n",
       "AMAZE/19366          90  3961321   65908  4027319\n",
       "AMAZE2/19366          2   764480   15773   780255\n",
       "AMAZE3/19366          0       24      12       36\n",
       "NETSMART/54422   193778        0       0   193778\n",
       "NETSMART2/54422   16110        0       0    16110\n",
       "NETSMART3/54422  466377        0       0   466377\n",
       "NETSMART4/54422  119311        0       0   119311\n",
       "VEOO/54850        47192   105561    6176   158929\n",
       "All              842860  4831386   87869  5762115"
      ]
     },
     "execution_count": 3,
     "metadata": {},
     "output_type": "execute_result"
    }
   ],
   "source": [
    "gr.pivot_table(['MSISDN'], index='AGG', columns='Result', aggfunc='count', fill_value=0, margins = True)"
   ]
  },
  {
   "cell_type": "markdown",
   "metadata": {},
   "source": [
    "## List of MSISDNs by billing attempts over the last 3 months"
   ]
  },
  {
   "cell_type": "code",
   "execution_count": 25,
   "metadata": {
    "scrolled": true
   },
   "outputs": [
    {
     "data": {
      "text/plain": [
       "(306)-980353339    345\n",
       "(306)-997934164    342\n",
       "(306)-972186921    327\n",
       "(306)-955369099    324\n",
       "(306)-979975809    324\n",
       "(306)-994416727    322\n",
       "(306)-997908864    289\n",
       "(306)-985666437    285\n",
       "(306)-986112771    279\n",
       "(306)-995715315    271\n",
       "Name: MSISDN, dtype: int64"
      ]
     },
     "execution_count": 25,
     "metadata": {},
     "output_type": "execute_result"
    }
   ],
   "source": [
    "gr.MSISDN.value_counts().head(10)"
   ]
  },
  {
   "cell_type": "markdown",
   "metadata": {},
   "source": [
    "## 2.) Applying a filter to previous list (bigger than 200) and displaying result"
   ]
  },
  {
   "cell_type": "code",
   "execution_count": 27,
   "metadata": {},
   "outputs": [
    {
     "data": {
      "text/plain": [
       "(306)-980353339    345\n",
       "(306)-997934164    342\n",
       "(306)-972186921    327\n",
       "(306)-955369099    324\n",
       "(306)-979975809    324\n",
       "(306)-994416727    322\n",
       "(306)-997908864    289\n",
       "(306)-985666437    285\n",
       "(306)-986112771    279\n",
       "(306)-995715315    271\n",
       "(306)-977395938    268\n",
       "(306)-943735535    264\n",
       "(306)-987927755    263\n",
       "(306)-934167460    258\n",
       "(306)-995310292    254\n",
       "(306)-936212398    252\n",
       "(306)-949372332    252\n",
       "(306)-907525948    252\n",
       "(306)-932430746    252\n",
       "(306)-982907764    252\n",
       "(306)-994991950    251\n",
       "(306)-987267747    250\n",
       "(306)-983741970    250\n",
       "(306)-945264167    250\n",
       "(306)-980833747    250\n",
       "(306)-906098786    249\n",
       "(306)-934417877    249\n",
       "(306)-944415390    249\n",
       "(306)-972904791    247\n",
       "(306)-971928866    247\n",
       "                  ... \n",
       "(306)-972840259    204\n",
       "(306)-984619220    204\n",
       "(306)-984463504    204\n",
       "(306)-986897715    204\n",
       "(306)-980336250    204\n",
       "(306)-955539743    204\n",
       "(306)-939171762    204\n",
       "(306)-982314851    203\n",
       "(306)-995335456    203\n",
       "(306)-999926545    203\n",
       "(306)-980505426    203\n",
       "(306)-980599749    203\n",
       "(306)-970539407    202\n",
       "(306)-993233090    201\n",
       "(306)-993902456    201\n",
       "(306)-995141972    201\n",
       "(306)-980186732    201\n",
       "(306)-983803617    201\n",
       "(306)-937002213    201\n",
       "(306)-982694000    201\n",
       "(306)-932538048    201\n",
       "(306)-970732145    201\n",
       "(306)-996625902    201\n",
       "(306)-945846293    201\n",
       "(306)-946161740    201\n",
       "(306)-980357637    201\n",
       "(306)-971655286    201\n",
       "(306)-955703795    201\n",
       "(306)-985962547    201\n",
       "(306)-948968863    201\n",
       "Name: MSISDN, Length: 209, dtype: int64"
      ]
     },
     "execution_count": 27,
     "metadata": {},
     "output_type": "execute_result"
    }
   ],
   "source": [
    "gr.MSISDN.value_counts()[gr.MSISDN.value_counts()>200]"
   ]
  },
  {
   "cell_type": "markdown",
   "metadata": {},
   "source": [
    "## 3.) List of Service/Keyword by Aggregator"
   ]
  },
  {
   "cell_type": "code",
   "execution_count": 28,
   "metadata": {},
   "outputs": [
    {
     "data": {
      "text/html": [
       "<div>\n",
       "<style scoped>\n",
       "    .dataframe tbody tr th:only-of-type {\n",
       "        vertical-align: middle;\n",
       "    }\n",
       "\n",
       "    .dataframe tbody tr th {\n",
       "        vertical-align: top;\n",
       "    }\n",
       "\n",
       "    .dataframe thead tr th {\n",
       "        text-align: left;\n",
       "    }\n",
       "\n",
       "    .dataframe thead tr:last-of-type th {\n",
       "        text-align: right;\n",
       "    }\n",
       "</style>\n",
       "<table border=\"1\" class=\"dataframe\">\n",
       "  <thead>\n",
       "    <tr>\n",
       "      <th></th>\n",
       "      <th colspan=\"4\" halign=\"left\">MSISDN</th>\n",
       "    </tr>\n",
       "    <tr>\n",
       "      <th>Service/Keyword</th>\n",
       "      <th>games</th>\n",
       "      <th>pics</th>\n",
       "      <th>trivia</th>\n",
       "      <th>All</th>\n",
       "    </tr>\n",
       "    <tr>\n",
       "      <th>AGG</th>\n",
       "      <th></th>\n",
       "      <th></th>\n",
       "      <th></th>\n",
       "      <th></th>\n",
       "    </tr>\n",
       "  </thead>\n",
       "  <tbody>\n",
       "    <tr>\n",
       "      <th>AMAZE/19366</th>\n",
       "      <td>256095</td>\n",
       "      <td>0</td>\n",
       "      <td>3994826</td>\n",
       "      <td>4250921</td>\n",
       "    </tr>\n",
       "    <tr>\n",
       "      <th>AMAZE2/19366</th>\n",
       "      <td>800774</td>\n",
       "      <td>36902</td>\n",
       "      <td>0</td>\n",
       "      <td>837676</td>\n",
       "    </tr>\n",
       "    <tr>\n",
       "      <th>AMAZE3/19366</th>\n",
       "      <td>43</td>\n",
       "      <td>0</td>\n",
       "      <td>0</td>\n",
       "      <td>43</td>\n",
       "    </tr>\n",
       "    <tr>\n",
       "      <th>NETSMART/54422</th>\n",
       "      <td>2970299</td>\n",
       "      <td>0</td>\n",
       "      <td>0</td>\n",
       "      <td>2970299</td>\n",
       "    </tr>\n",
       "    <tr>\n",
       "      <th>NETSMART2/54422</th>\n",
       "      <td>767634</td>\n",
       "      <td>0</td>\n",
       "      <td>0</td>\n",
       "      <td>767634</td>\n",
       "    </tr>\n",
       "    <tr>\n",
       "      <th>NETSMART3/54422</th>\n",
       "      <td>5971096</td>\n",
       "      <td>0</td>\n",
       "      <td>0</td>\n",
       "      <td>5971096</td>\n",
       "    </tr>\n",
       "    <tr>\n",
       "      <th>NETSMART4/54422</th>\n",
       "      <td>3761873</td>\n",
       "      <td>0</td>\n",
       "      <td>0</td>\n",
       "      <td>3761873</td>\n",
       "    </tr>\n",
       "    <tr>\n",
       "      <th>VEOO/54850</th>\n",
       "      <td>149862</td>\n",
       "      <td>5544</td>\n",
       "      <td>0</td>\n",
       "      <td>155406</td>\n",
       "    </tr>\n",
       "    <tr>\n",
       "      <th>All</th>\n",
       "      <td>14677676</td>\n",
       "      <td>42446</td>\n",
       "      <td>3994826</td>\n",
       "      <td>18714948</td>\n",
       "    </tr>\n",
       "  </tbody>\n",
       "</table>\n",
       "</div>"
      ],
      "text/plain": [
       "                   MSISDN                          \n",
       "Service/Keyword     games   pics   trivia       All\n",
       "AGG                                                \n",
       "AMAZE/19366        256095      0  3994826   4250921\n",
       "AMAZE2/19366       800774  36902        0    837676\n",
       "AMAZE3/19366           43      0        0        43\n",
       "NETSMART/54422    2970299      0        0   2970299\n",
       "NETSMART2/54422    767634      0        0    767634\n",
       "NETSMART3/54422   5971096      0        0   5971096\n",
       "NETSMART4/54422   3761873      0        0   3761873\n",
       "VEOO/54850         149862   5544        0    155406\n",
       "All              14677676  42446  3994826  18714948"
      ]
     },
     "execution_count": 28,
     "metadata": {},
     "output_type": "execute_result"
    }
   ],
   "source": [
    "gr.pivot_table(['MSISDN'], index=['AGG'], columns='Service/Keyword', aggfunc='count', fill_value=0, margins = True)"
   ]
  },
  {
   "cell_type": "markdown",
   "metadata": {},
   "source": [
    "## Setup categories inside one of my indexes.\n",
    "You can define categories of each index to filter what you want to be seeing.\n",
    "\n",
    "here is the counts of keywords in Greece the last 3 months:"
   ]
  },
  {
   "cell_type": "code",
   "execution_count": 29,
   "metadata": {},
   "outputs": [
    {
     "data": {
      "text/plain": [
       "games     14677676\n",
       "trivia     3994826\n",
       "pics         42446\n",
       "Name: Service/Keyword, dtype: int64"
      ]
     },
     "execution_count": 29,
     "metadata": {},
     "output_type": "execute_result"
    }
   ],
   "source": [
    "gr[\"Service/Keyword\"].value_counts()"
   ]
  },
  {
   "cell_type": "markdown",
   "metadata": {},
   "source": [
    "## Suppose I want to see only trivia category: ##\n",
    "For the sake of order I will be creating a new dataframe for this (gr1)."
   ]
  },
  {
   "cell_type": "code",
   "execution_count": 35,
   "metadata": {},
   "outputs": [
    {
     "data": {
      "text/plain": [
       "trivia    3994826\n",
       "Name: Service/Keyword, dtype: int64"
      ]
     },
     "execution_count": 35,
     "metadata": {},
     "output_type": "execute_result"
    }
   ],
   "source": [
    "gr1 = gr[:] ##create clone out of GR\n",
    "gr1[\"Service/Keyword\"] = gr1[\"Service/Keyword\"].astype(\"category\") ##setup column category\n",
    "gr1[\"Service/Keyword\"].cat.set_categories([\"trivia\"], inplace=True) ##setup trivia as category\n",
    "gr1[\"Service/Keyword\"].value_counts()"
   ]
  },
  {
   "cell_type": "markdown",
   "metadata": {},
   "source": [
    "## Previous pivot table would change accordingly"
   ]
  },
  {
   "cell_type": "code",
   "execution_count": 34,
   "metadata": {},
   "outputs": [
    {
     "data": {
      "text/html": [
       "<div>\n",
       "<style scoped>\n",
       "    .dataframe tbody tr th:only-of-type {\n",
       "        vertical-align: middle;\n",
       "    }\n",
       "\n",
       "    .dataframe tbody tr th {\n",
       "        vertical-align: top;\n",
       "    }\n",
       "\n",
       "    .dataframe thead tr th {\n",
       "        text-align: left;\n",
       "    }\n",
       "\n",
       "    .dataframe thead tr:last-of-type th {\n",
       "        text-align: right;\n",
       "    }\n",
       "</style>\n",
       "<table border=\"1\" class=\"dataframe\">\n",
       "  <thead>\n",
       "    <tr>\n",
       "      <th></th>\n",
       "      <th colspan=\"2\" halign=\"left\">MSISDN</th>\n",
       "    </tr>\n",
       "    <tr>\n",
       "      <th>Service/Keyword</th>\n",
       "      <th>trivia</th>\n",
       "      <th>All</th>\n",
       "    </tr>\n",
       "    <tr>\n",
       "      <th>AGG</th>\n",
       "      <th></th>\n",
       "      <th></th>\n",
       "    </tr>\n",
       "  </thead>\n",
       "  <tbody>\n",
       "    <tr>\n",
       "      <th>AMAZE/19366</th>\n",
       "      <td>3994826</td>\n",
       "      <td>3994826</td>\n",
       "    </tr>\n",
       "    <tr>\n",
       "      <th>All</th>\n",
       "      <td>3994826</td>\n",
       "      <td>3994826</td>\n",
       "    </tr>\n",
       "  </tbody>\n",
       "</table>\n",
       "</div>"
      ],
      "text/plain": [
       "                  MSISDN         \n",
       "Service/Keyword   trivia      All\n",
       "AGG                              \n",
       "AMAZE/19366      3994826  3994826\n",
       "All              3994826  3994826"
      ]
     },
     "execution_count": 34,
     "metadata": {},
     "output_type": "execute_result"
    }
   ],
   "source": [
    "gr1.pivot_table(['MSISDN'], index=['AGG'], columns='Service/Keyword', aggfunc='count', fill_value=0, margins = True)"
   ]
  }
 ],
 "metadata": {
  "kernelspec": {
   "display_name": "Python 3",
   "language": "python",
   "name": "python3"
  },
  "language_info": {
   "codemirror_mode": {
    "name": "ipython",
    "version": 3
   },
   "file_extension": ".py",
   "mimetype": "text/x-python",
   "name": "python",
   "nbconvert_exporter": "python",
   "pygments_lexer": "ipython3",
   "version": "3.7.1"
  }
 },
 "nbformat": 4,
 "nbformat_minor": 2
}
