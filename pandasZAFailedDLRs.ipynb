{
 "cells": [
  {
   "cell_type": "code",
   "execution_count": 1,
   "metadata": {},
   "outputs": [],
   "source": [
    "import pandas as pd\n",
    "import numpy as np"
   ]
  },
  {
   "cell_type": "code",
   "execution_count": 2,
   "metadata": {},
   "outputs": [],
   "source": [
    "netsmartZAFailed = pd.read_csv('/home/enumtheworld/netsmartZAFail.csv')"
   ]
  },
  {
   "cell_type": "code",
   "execution_count": 3,
   "metadata": {},
   "outputs": [
    {
     "data": {
      "text/plain": [
       "<bound method NDFrame.head of           Unnamed: 0   Time         Date  Tariff     Destination     Op  \\\n",
       "0                  1  09:31   1/Nov/2018     600  (277)-65492968  CellC   \n",
       "1                  2  09:31   1/Nov/2018     600  (276)-53626315  CellC   \n",
       "2                  3  09:31   1/Nov/2018     600  (276)-17761722  CellC   \n",
       "3                  4  09:31   1/Nov/2018     600  (276)-03002825  MTNSA   \n",
       "4                  5  09:31   1/Nov/2018     600  (276)-17761933  CellC   \n",
       "5                  6  09:31   1/Nov/2018     600  (277)-65493971  CellC   \n",
       "6                  7  09:31   1/Nov/2018     600  (276)-53627564  CellC   \n",
       "7                  8  09:31   1/Nov/2018     600  (276)-24084831  CellC   \n",
       "8                  9  09:31   1/Nov/2018     600  (276)-17761956  CellC   \n",
       "9                 10  09:31   1/Nov/2018     600  (276)-53627732  CellC   \n",
       "10                11  09:31   1/Nov/2018     600  (276)-24083383  CellC   \n",
       "11                12  09:31   1/Nov/2018     600  (277)-65514115  CellC   \n",
       "12                13  09:31   1/Nov/2018     600  (276)-03007736  CellC   \n",
       "13                14  09:31   1/Nov/2018     600  (276)-24085544  CellC   \n",
       "14                15  09:31   1/Nov/2018     600  (277)-65506827  CellC   \n",
       "15                16  09:31   1/Nov/2018     600  (276)-24085737  CellC   \n",
       "16                17  09:31   1/Nov/2018     600  (276)-24086381  CellC   \n",
       "17                18  09:31   1/Nov/2018     600  (276)-03007595  CellC   \n",
       "18                19  09:31   1/Nov/2018     600  (277)-65510300  CellC   \n",
       "19                20  09:31   1/Nov/2018     600  (276)-17764949  CellC   \n",
       "20                21  09:31   1/Nov/2018     600  (276)-03010412  CellC   \n",
       "21                22  09:31   1/Nov/2018     600  (276)-53627800  CellC   \n",
       "22                23  09:31   1/Nov/2018     600  (276)-53628272  CellC   \n",
       "23                24  09:31   1/Nov/2018     600  (276)-24086950  CellC   \n",
       "24                25  09:31   1/Nov/2018     600  (276)-03019018  CellC   \n",
       "25                26  09:31   1/Nov/2018     600  (277)-65526310  CellC   \n",
       "26                27  09:31   1/Nov/2018     600  (276)-17765962  CellC   \n",
       "27                28  09:31   1/Nov/2018     600  (277)-65529933  CellC   \n",
       "28                29  09:31   1/Nov/2018     600  (276)-53629250  CellC   \n",
       "29                30  09:31   1/Nov/2018     600  (276)-17763844  CellC   \n",
       "...              ...    ...          ...     ...             ...    ...   \n",
       "18694411    18694412  11:53  26/Feb/2019     600  (276)-20428652  CellC   \n",
       "18694412    18694413  11:53  26/Feb/2019     600  (276)-42540986  CellC   \n",
       "18694413    18694414  12:02  26/Feb/2019     600  (276)-56431834  CellC   \n",
       "18694414    18694415  12:05  26/Feb/2019     600  (277)-45321431  CellC   \n",
       "18694415    18694416  12:11  26/Feb/2019     600  (276)-12707974  CellC   \n",
       "18694416    18694417  12:24  26/Feb/2019     600  (276)-53905896  CellC   \n",
       "18694417    18694418  12:28  26/Feb/2019     600  (276)-19189402  CellC   \n",
       "18694418    18694419  12:28  26/Feb/2019     600  (276)-25348088  CellC   \n",
       "18694419    18694420  12:28  26/Feb/2019     600  (276)-51858973  CellC   \n",
       "18694420    18694421  12:29  26/Feb/2019     600  (276)-52417937  CellC   \n",
       "18694421    18694422  12:32  26/Feb/2019     600  (276)-27372647  CellC   \n",
       "18694422    18694423  12:33  26/Feb/2019     600  (276)-12543068  CellC   \n",
       "18694423    18694424  12:40  26/Feb/2019     600  (277)-34745856  CellC   \n",
       "18694424    18694425  12:43  26/Feb/2019     600  (277)-21129368  CellC   \n",
       "18694425    18694426  12:43  26/Feb/2019     600  (276)-16916807  CellC   \n",
       "18694426    18694427  12:44  26/Feb/2019     600  (277)-43107854  CellC   \n",
       "18694427    18694428  12:46  26/Feb/2019     600  (277)-47315955  CellC   \n",
       "18694428    18694429  12:46  26/Feb/2019     600  (276)-20733101  CellC   \n",
       "18694429    18694430  12:46  26/Feb/2019     600  (278)-42234742  CellC   \n",
       "18694430    18694431  12:53  26/Feb/2019     600  (276)-28454117  CellC   \n",
       "18694431    18694432  12:53  26/Feb/2019     600  (277)-40385566  CellC   \n",
       "18694432    18694433  12:59  26/Feb/2019     600  (277)-44499659  CellC   \n",
       "18694433    18694434  13:03  26/Feb/2019     600  (277)-42107882  CellC   \n",
       "18694434    18694435  13:07  26/Feb/2019     600  (276)-11799833  CellC   \n",
       "18694435    18694436  13:08  26/Feb/2019     600  (278)-48022877  CellC   \n",
       "18694436    18694437  13:15  26/Feb/2019     600  (276)-43124859  CellC   \n",
       "18694437    18694438  13:16  26/Feb/2019     600  (276)-19815458  CellC   \n",
       "18694438    18694439  13:21  26/Feb/2019     600  (276)-11601263  CellC   \n",
       "18694439    18694440  13:21  26/Feb/2019     600  (277)-46305745  CellC   \n",
       "18694440    18694441  13:28  26/Feb/2019     600  (276)-51464329  CellC   \n",
       "\n",
       "                     ID  Status  Reason  \n",
       "0         105747625247S       2       1  \n",
       "1         105747625246J       2       1  \n",
       "2         105747625250F       2       1  \n",
       "3         105747625249H       2       1  \n",
       "4         105748025255E       2       1  \n",
       "5         105748025253N       2       1  \n",
       "6         105748125260V       2       1  \n",
       "7         105748025251Y       2       1  \n",
       "8         105748025258E       2       1  \n",
       "9         105748125263U       2       1  \n",
       "10        105747625248W       2       1  \n",
       "11        105748225272K       2       1  \n",
       "12        105748025256O       2       1  \n",
       "13        105748025257W       2       1  \n",
       "14        105748125259P       2       1  \n",
       "15        105748125265N       2       1  \n",
       "16        105748325279L       2       1  \n",
       "17        105748025252R       2       1  \n",
       "18        105748125267Q       2       1  \n",
       "19        105748325278F       2       1  \n",
       "20        105748125261H       2       1  \n",
       "21        105748225270X       2       1  \n",
       "22        105748425286W       2       1  \n",
       "23        105748425285E       2       1  \n",
       "24        105748425288V       2       1  \n",
       "25        105748325276N       2       1  \n",
       "26        105748425282L       2       1  \n",
       "27        105748425284C       2       1  \n",
       "28        105748525296R       2       1  \n",
       "29        105748225274X       2       1  \n",
       "...                 ...     ...     ...  \n",
       "18694411  117428529541C       2       1  \n",
       "18694412  117428829655I       2       1  \n",
       "18694413   11746455264N       2       1  \n",
       "18694414   11747667906O       2       1  \n",
       "18694415  117500712186O       2       1  \n",
       "18694416  117554622460L       2       1  \n",
       "18694417  117573526256D       2       1  \n",
       "18694418  117573926353Z       2       1  \n",
       "18694419  117573426228R       2       1  \n",
       "18694420  117579427607C       2       1  \n",
       "18694421  117596932763Y       2       1  \n",
       "18694422   11760272190P       2       1  \n",
       "18694423  117639631782N       2       1  \n",
       "18694424  117657222893R       2       1  \n",
       "18694425  117657523389M       2       1  \n",
       "18694426  117663632536Y       2       1  \n",
       "18694427  117675117068C       2       1  \n",
       "18694428  117675016880H       2       1  \n",
       "18694429  117675918375U       2       1  \n",
       "18694430  117717310970K       2       1  \n",
       "18694431  117717611347I       2       1  \n",
       "18694432  117753729034V       2       1  \n",
       "18694433   11777843200W       2       1  \n",
       "18694434  117808022682N       2       1  \n",
       "18694435  117812929069H       2       1  \n",
       "18694436  117850213557H       2       1  \n",
       "18694437  117856421155Q       2       1  \n",
       "18694438  117885225441D       2       1  \n",
       "18694439  117886927437Y       2       1  \n",
       "18694440  117927723334Q       2       1  \n",
       "\n",
       "[18694441 rows x 9 columns]>"
      ]
     },
     "execution_count": 3,
     "metadata": {},
     "output_type": "execute_result"
    }
   ],
   "source": [
    "netsmartZAFailed.head"
   ]
  },
  {
   "cell_type": "markdown",
   "metadata": {},
   "source": [
    "### Failures unders 100 times"
   ]
  },
  {
   "cell_type": "code",
   "execution_count": 4,
   "metadata": {
    "scrolled": true
   },
   "outputs": [
    {
     "data": {
      "text/plain": [
       "(278)-47497022    99\n",
       "(276)-52893841    99\n",
       "(276)-22756047    99\n",
       "(276)-43352586    99\n",
       "(277)-42334778    99\n",
       "(276)-20731649    99\n",
       "(278)-46974087    99\n",
       "(276)-24180441    99\n",
       "(277)-48265279    99\n",
       "(276)-44997133    99\n",
       "(278)-42328780    99\n",
       "(276)-16161826    99\n",
       "(276)-26895294    99\n",
       "(276)-28224283    99\n",
       "(276)-18987133    99\n",
       "(278)-43858452    99\n",
       "(276)-28831196    99\n",
       "(278)-45405503    99\n",
       "(276)-25962963    99\n",
       "(277)-19393101    99\n",
       "(278)-35886012    99\n",
       "(277)-43127318    99\n",
       "(277)-87710678    99\n",
       "(277)-49171573    99\n",
       "(278)-43858604    99\n",
       "(278)-37678283    99\n",
       "(277)-44990707    99\n",
       "(276)-12316086    99\n",
       "(276)-24492198    99\n",
       "(278)-44058971    99\n",
       "                  ..\n",
       "(278)-44233789     1\n",
       "(277)-48598385     1\n",
       "(278)-48104939     1\n",
       "(276)-25492487     1\n",
       "(278)-48514553     1\n",
       "(276)-42879583     1\n",
       "(276)-13884103     1\n",
       "(277)-24786995     1\n",
       "(278)-47323460     1\n",
       "(277)-48756978     1\n",
       "(276)-12207432     1\n",
       "(276)-27537367     1\n",
       "(277)-82232878     1\n",
       "(276)-20246290     1\n",
       "(276)-16280297     1\n",
       "(277)-49584292     1\n",
       "(277)-40496868     1\n",
       "(276)-12733494     1\n",
       "(276)-19733229     1\n",
       "(277)-46005911     1\n",
       "(278)-45292595     1\n",
       "(277)-46305745     1\n",
       "(276)-19090862     1\n",
       "(278)-49093347     1\n",
       "(277)-47314945     1\n",
       "(277)-48268666     1\n",
       "(277)-47613440     1\n",
       "(277)-47811308     1\n",
       "(277)-94757729     1\n",
       "(276)-27045288     1\n",
       "Name: Destination, Length: 143899, dtype: int64"
      ]
     },
     "execution_count": 4,
     "metadata": {},
     "output_type": "execute_result"
    }
   ],
   "source": [
    "netsmartZAFailed.Destination.value_counts()[netsmartZAFailed.Destination.value_counts()<100]"
   ]
  },
  {
   "cell_type": "markdown",
   "metadata": {},
   "source": [
    "### failures under 200 times"
   ]
  },
  {
   "cell_type": "code",
   "execution_count": 5,
   "metadata": {},
   "outputs": [
    {
     "data": {
      "text/plain": [
       "(276)-44151019    192\n",
       "(277)-27905396    185\n",
       "(276)-22187467    182\n",
       "(277)-90800341    182\n",
       "(277)-63976151    182\n",
       "(277)-47102235    176\n",
       "(278)-15382433    175\n",
       "(276)-18190832    170\n",
       "(278)-49653543    163\n",
       "(278)-45409550    161\n",
       "(276)-17397992    158\n",
       "(277)-43579102    158\n",
       "(277)-44819212    158\n",
       "(277)-94481247    155\n",
       "(277)-44432466    155\n",
       "(277)-46008543    153\n",
       "(276)-29162091    152\n",
       "(276)-41978409    152\n",
       "(276)-41010420    150\n",
       "(277)-47713422    140\n",
       "(277)-84874646    139\n",
       "(276)-27687870    139\n",
       "(276)-44664187    138\n",
       "(276)-22366243    137\n",
       "(276)-10480018    128\n",
       "(276)-19802609    128\n",
       "(277)-34491885    119\n",
       "(276)-16216639    119\n",
       "(276)-28325841    119\n",
       "(276)-03800953    119\n",
       "                 ... \n",
       "(278)-44233789      1\n",
       "(277)-48598385      1\n",
       "(278)-48104939      1\n",
       "(276)-25492487      1\n",
       "(278)-48514553      1\n",
       "(276)-42879583      1\n",
       "(276)-13884103      1\n",
       "(277)-24786995      1\n",
       "(278)-47323460      1\n",
       "(277)-48756978      1\n",
       "(276)-12207432      1\n",
       "(276)-27537367      1\n",
       "(277)-82232878      1\n",
       "(276)-20246290      1\n",
       "(276)-16280297      1\n",
       "(277)-49584292      1\n",
       "(277)-40496868      1\n",
       "(276)-12733494      1\n",
       "(276)-19733229      1\n",
       "(277)-46005911      1\n",
       "(278)-45292595      1\n",
       "(277)-46305745      1\n",
       "(276)-19090862      1\n",
       "(278)-49093347      1\n",
       "(277)-47314945      1\n",
       "(277)-48268666      1\n",
       "(277)-47613440      1\n",
       "(277)-47811308      1\n",
       "(277)-94757729      1\n",
       "(276)-27045288      1\n",
       "Name: Destination, Length: 252068, dtype: int64"
      ]
     },
     "execution_count": 5,
     "metadata": {},
     "output_type": "execute_result"
    }
   ],
   "source": [
    "netsmartZAFailed.Destination.value_counts()[netsmartZAFailed.Destination.value_counts()<200]"
   ]
  },
  {
   "cell_type": "markdown",
   "metadata": {},
   "source": [
    "### Most failed MSISDN in descending order"
   ]
  },
  {
   "cell_type": "code",
   "execution_count": 16,
   "metadata": {},
   "outputs": [
    {
     "data": {
      "text/plain": [
       "(277)-15959513    236\n",
       "(276)-13053582    236\n",
       "(276)-11646491    236\n",
       "(277)-18251244    236\n",
       "(276)-10484949    236\n",
       "(276)-12560563    236\n",
       "(276)-11380953    236\n",
       "(277)-42585245    236\n",
       "(276)-26076901    236\n",
       "(276)-16086454    236\n",
       "Name: Destination, dtype: int64"
      ]
     },
     "execution_count": 16,
     "metadata": {},
     "output_type": "execute_result"
    }
   ],
   "source": [
    "netsmartZAFailed.Destination.value_counts().head(10)"
   ]
  },
  {
   "cell_type": "code",
   "execution_count": 10,
   "metadata": {},
   "outputs": [
    {
     "data": {
      "text/plain": [
       "(10,)"
      ]
     },
     "execution_count": 10,
     "metadata": {},
     "output_type": "execute_result"
    }
   ],
   "source": [
    "netsmartZAFailedSorted.shape\n"
   ]
  },
  {
   "cell_type": "code",
   "execution_count": 15,
   "metadata": {},
   "outputs": [
    {
     "ename": "FileNotFoundError",
     "evalue": "[Errno 2] No such file or directory: '/home/enumerate/netsmartZAFailedSorted.csv'",
     "output_type": "error",
     "traceback": [
      "\u001b[0;31m---------------------------------------------------------------------------\u001b[0m",
      "\u001b[0;31mFileNotFoundError\u001b[0m                         Traceback (most recent call last)",
      "\u001b[0;32m<ipython-input-15-cf166b030676>\u001b[0m in \u001b[0;36m<module>\u001b[0;34m\u001b[0m\n\u001b[0;32m----> 1\u001b[0;31m \u001b[0mnetsmartZAFailedSorted\u001b[0m\u001b[0;34m.\u001b[0m\u001b[0mto_csv\u001b[0m\u001b[0;34m(\u001b[0m\u001b[0;34m'/home/enumerate/netsmartZAFailedSorted.csv'\u001b[0m\u001b[0;34m,\u001b[0m \u001b[0msep\u001b[0m\u001b[0;34m=\u001b[0m\u001b[0;34m'\\t'\u001b[0m\u001b[0;34m,\u001b[0m \u001b[0mencoding\u001b[0m\u001b[0;34m=\u001b[0m\u001b[0;34m'utf-8'\u001b[0m\u001b[0;34m)\u001b[0m\u001b[0;34m\u001b[0m\u001b[0;34m\u001b[0m\u001b[0m\n\u001b[0m",
      "\u001b[0;32m~/anaconda3/lib/python3.7/site-packages/pandas/core/series.py\u001b[0m in \u001b[0;36mto_csv\u001b[0;34m(self, path, index, sep, na_rep, float_format, header, index_label, mode, encoding, compression, date_format, decimal)\u001b[0m\n\u001b[1;32m   3779\u001b[0m                            \u001b[0mindex_label\u001b[0m\u001b[0;34m=\u001b[0m\u001b[0mindex_label\u001b[0m\u001b[0;34m,\u001b[0m \u001b[0mmode\u001b[0m\u001b[0;34m=\u001b[0m\u001b[0mmode\u001b[0m\u001b[0;34m,\u001b[0m\u001b[0;34m\u001b[0m\u001b[0;34m\u001b[0m\u001b[0m\n\u001b[1;32m   3780\u001b[0m                            \u001b[0mencoding\u001b[0m\u001b[0;34m=\u001b[0m\u001b[0mencoding\u001b[0m\u001b[0;34m,\u001b[0m \u001b[0mcompression\u001b[0m\u001b[0;34m=\u001b[0m\u001b[0mcompression\u001b[0m\u001b[0;34m,\u001b[0m\u001b[0;34m\u001b[0m\u001b[0;34m\u001b[0m\u001b[0m\n\u001b[0;32m-> 3781\u001b[0;31m                            date_format=date_format, decimal=decimal)\n\u001b[0m\u001b[1;32m   3782\u001b[0m         \u001b[0;32mif\u001b[0m \u001b[0mpath\u001b[0m \u001b[0;32mis\u001b[0m \u001b[0;32mNone\u001b[0m\u001b[0;34m:\u001b[0m\u001b[0;34m\u001b[0m\u001b[0;34m\u001b[0m\u001b[0m\n\u001b[1;32m   3783\u001b[0m             \u001b[0;32mreturn\u001b[0m \u001b[0mresult\u001b[0m\u001b[0;34m\u001b[0m\u001b[0;34m\u001b[0m\u001b[0m\n",
      "\u001b[0;32m~/anaconda3/lib/python3.7/site-packages/pandas/core/frame.py\u001b[0m in \u001b[0;36mto_csv\u001b[0;34m(self, path_or_buf, sep, na_rep, float_format, columns, header, index, index_label, mode, encoding, compression, quoting, quotechar, line_terminator, chunksize, tupleize_cols, date_format, doublequote, escapechar, decimal)\u001b[0m\n\u001b[1;32m   1743\u001b[0m                                  \u001b[0mdoublequote\u001b[0m\u001b[0;34m=\u001b[0m\u001b[0mdoublequote\u001b[0m\u001b[0;34m,\u001b[0m\u001b[0;34m\u001b[0m\u001b[0;34m\u001b[0m\u001b[0m\n\u001b[1;32m   1744\u001b[0m                                  escapechar=escapechar, decimal=decimal)\n\u001b[0;32m-> 1745\u001b[0;31m         \u001b[0mformatter\u001b[0m\u001b[0;34m.\u001b[0m\u001b[0msave\u001b[0m\u001b[0;34m(\u001b[0m\u001b[0;34m)\u001b[0m\u001b[0;34m\u001b[0m\u001b[0;34m\u001b[0m\u001b[0m\n\u001b[0m\u001b[1;32m   1746\u001b[0m \u001b[0;34m\u001b[0m\u001b[0m\n\u001b[1;32m   1747\u001b[0m         \u001b[0;32mif\u001b[0m \u001b[0mpath_or_buf\u001b[0m \u001b[0;32mis\u001b[0m \u001b[0;32mNone\u001b[0m\u001b[0;34m:\u001b[0m\u001b[0;34m\u001b[0m\u001b[0;34m\u001b[0m\u001b[0m\n",
      "\u001b[0;32m~/anaconda3/lib/python3.7/site-packages/pandas/io/formats/csvs.py\u001b[0m in \u001b[0;36msave\u001b[0;34m(self)\u001b[0m\n\u001b[1;32m    154\u001b[0m             f, handles = _get_handle(self.path_or_buf, self.mode,\n\u001b[1;32m    155\u001b[0m                                      \u001b[0mencoding\u001b[0m\u001b[0;34m=\u001b[0m\u001b[0mencoding\u001b[0m\u001b[0;34m,\u001b[0m\u001b[0;34m\u001b[0m\u001b[0;34m\u001b[0m\u001b[0m\n\u001b[0;32m--> 156\u001b[0;31m                                      compression=self.compression)\n\u001b[0m\u001b[1;32m    157\u001b[0m             \u001b[0mclose\u001b[0m \u001b[0;34m=\u001b[0m \u001b[0;32mTrue\u001b[0m\u001b[0;34m\u001b[0m\u001b[0;34m\u001b[0m\u001b[0m\n\u001b[1;32m    158\u001b[0m \u001b[0;34m\u001b[0m\u001b[0m\n",
      "\u001b[0;32m~/anaconda3/lib/python3.7/site-packages/pandas/io/common.py\u001b[0m in \u001b[0;36m_get_handle\u001b[0;34m(path_or_buf, mode, encoding, compression, memory_map, is_text)\u001b[0m\n\u001b[1;32m    398\u001b[0m         \u001b[0;32melif\u001b[0m \u001b[0mencoding\u001b[0m\u001b[0;34m:\u001b[0m\u001b[0;34m\u001b[0m\u001b[0;34m\u001b[0m\u001b[0m\n\u001b[1;32m    399\u001b[0m             \u001b[0;31m# Python 3 and encoding\u001b[0m\u001b[0;34m\u001b[0m\u001b[0;34m\u001b[0m\u001b[0;34m\u001b[0m\u001b[0m\n\u001b[0;32m--> 400\u001b[0;31m             \u001b[0mf\u001b[0m \u001b[0;34m=\u001b[0m \u001b[0mopen\u001b[0m\u001b[0;34m(\u001b[0m\u001b[0mpath_or_buf\u001b[0m\u001b[0;34m,\u001b[0m \u001b[0mmode\u001b[0m\u001b[0;34m,\u001b[0m \u001b[0mencoding\u001b[0m\u001b[0;34m=\u001b[0m\u001b[0mencoding\u001b[0m\u001b[0;34m)\u001b[0m\u001b[0;34m\u001b[0m\u001b[0;34m\u001b[0m\u001b[0m\n\u001b[0m\u001b[1;32m    401\u001b[0m         \u001b[0;32melif\u001b[0m \u001b[0mis_text\u001b[0m\u001b[0;34m:\u001b[0m\u001b[0;34m\u001b[0m\u001b[0;34m\u001b[0m\u001b[0m\n\u001b[1;32m    402\u001b[0m             \u001b[0;31m# Python 3 and no explicit encoding\u001b[0m\u001b[0;34m\u001b[0m\u001b[0;34m\u001b[0m\u001b[0;34m\u001b[0m\u001b[0m\n",
      "\u001b[0;31mFileNotFoundError\u001b[0m: [Errno 2] No such file or directory: '/home/enumerate/netsmartZAFailedSorted.csv'"
     ]
    }
   ],
   "source": [
    "netsmartZAFailedSorted.to_csv('/home/enumerate/netsmartZAFailedSorted.csv', sep='\\t', encoding='utf-8')"
   ]
  },
  {
   "cell_type": "code",
   "execution_count": null,
   "metadata": {},
   "outputs": [],
   "source": []
  }
 ],
 "metadata": {
  "kernelspec": {
   "display_name": "Python 3",
   "language": "python",
   "name": "python3"
  },
  "language_info": {
   "codemirror_mode": {
    "name": "ipython",
    "version": 3
   },
   "file_extension": ".py",
   "mimetype": "text/x-python",
   "name": "python",
   "nbconvert_exporter": "python",
   "pygments_lexer": "ipython3",
   "version": "3.7.1"
  }
 },
 "nbformat": 4,
 "nbformat_minor": 2
}
